{
 "cells": [
  {
   "cell_type": "markdown",
   "id": "ae768e93",
   "metadata": {},
   "source": [
    "# NLP - Natural Language Process\n",
    "## Bir metni bilgisayar diline çevirmeye yarar. Örneğin; modelimiz bir restorant ile ilgili kötü ve iyi yorumlar ile eğitilir. Bu eğitimin ardından yeni gelen bir yorumun iyi ya da kötü olup olmadığını anlayabilir. "
   ]
  },
  {
   "cell_type": "markdown",
   "id": "82e6802c",
   "metadata": {},
   "source": [
    "#"
   ]
  },
  {
   "cell_type": "markdown",
   "id": "99eb87b9",
   "metadata": {},
   "source": [
    "## import dataset"
   ]
  },
  {
   "cell_type": "code",
   "execution_count": 1,
   "id": "87f06585",
   "metadata": {},
   "outputs": [],
   "source": [
    "import pandas as pd\n",
    "import numpy as np"
   ]
  },
  {
   "cell_type": "code",
   "execution_count": 2,
   "id": "d08c0172",
   "metadata": {},
   "outputs": [
    {
     "data": {
      "text/html": [
       "<div>\n",
       "<style scoped>\n",
       "    .dataframe tbody tr th:only-of-type {\n",
       "        vertical-align: middle;\n",
       "    }\n",
       "\n",
       "    .dataframe tbody tr th {\n",
       "        vertical-align: top;\n",
       "    }\n",
       "\n",
       "    .dataframe thead th {\n",
       "        text-align: right;\n",
       "    }\n",
       "</style>\n",
       "<table border=\"1\" class=\"dataframe\">\n",
       "  <thead>\n",
       "    <tr style=\"text-align: right;\">\n",
       "      <th></th>\n",
       "      <th>_unit_id</th>\n",
       "      <th>_golden</th>\n",
       "      <th>_unit_state</th>\n",
       "      <th>_trusted_judgments</th>\n",
       "      <th>_last_judgment_at</th>\n",
       "      <th>gender</th>\n",
       "      <th>gender:confidence</th>\n",
       "      <th>profile_yn</th>\n",
       "      <th>profile_yn:confidence</th>\n",
       "      <th>created</th>\n",
       "      <th>...</th>\n",
       "      <th>profileimage</th>\n",
       "      <th>retweet_count</th>\n",
       "      <th>sidebar_color</th>\n",
       "      <th>text</th>\n",
       "      <th>tweet_coord</th>\n",
       "      <th>tweet_count</th>\n",
       "      <th>tweet_created</th>\n",
       "      <th>tweet_id</th>\n",
       "      <th>tweet_location</th>\n",
       "      <th>user_timezone</th>\n",
       "    </tr>\n",
       "  </thead>\n",
       "  <tbody>\n",
       "    <tr>\n",
       "      <th>20043</th>\n",
       "      <td>815756700</td>\n",
       "      <td>True</td>\n",
       "      <td>golden</td>\n",
       "      <td>240</td>\n",
       "      <td>NaN</td>\n",
       "      <td>male</td>\n",
       "      <td>1.0000</td>\n",
       "      <td>yes</td>\n",
       "      <td>1.0</td>\n",
       "      <td>9/27/11 0:19</td>\n",
       "      <td>...</td>\n",
       "      <td>https://pbs.twimg.com/profile_images/378800000...</td>\n",
       "      <td>1</td>\n",
       "      <td>5ED4DC</td>\n",
       "      <td>Game faggot and venison loin, crisp spelt and ...</td>\n",
       "      <td>NaN</td>\n",
       "      <td>8193</td>\n",
       "      <td>10/26/15 13:19</td>\n",
       "      <td>6.587400e+17</td>\n",
       "      <td>Chertsey Bridge</td>\n",
       "      <td>NaN</td>\n",
       "    </tr>\n",
       "    <tr>\n",
       "      <th>20044</th>\n",
       "      <td>815756767</td>\n",
       "      <td>True</td>\n",
       "      <td>golden</td>\n",
       "      <td>227</td>\n",
       "      <td>NaN</td>\n",
       "      <td>female</td>\n",
       "      <td>1.0000</td>\n",
       "      <td>yes</td>\n",
       "      <td>1.0</td>\n",
       "      <td>6/11/14 1:55</td>\n",
       "      <td>...</td>\n",
       "      <td>https://pbs.twimg.com/profile_images/643483977...</td>\n",
       "      <td>0</td>\n",
       "      <td>C0DEED</td>\n",
       "      <td>Need A Ride Home From Practice _Ù÷Ô_Ù÷Ô_Ù÷ÔAnd...</td>\n",
       "      <td>NaN</td>\n",
       "      <td>6669</td>\n",
       "      <td>10/26/15 13:19</td>\n",
       "      <td>6.587400e+17</td>\n",
       "      <td>NaN</td>\n",
       "      <td>NaN</td>\n",
       "    </tr>\n",
       "    <tr>\n",
       "      <th>20045</th>\n",
       "      <td>815757572</td>\n",
       "      <td>True</td>\n",
       "      <td>golden</td>\n",
       "      <td>259</td>\n",
       "      <td>NaN</td>\n",
       "      <td>female</td>\n",
       "      <td>1.0000</td>\n",
       "      <td>yes</td>\n",
       "      <td>1.0</td>\n",
       "      <td>8/5/15 21:16</td>\n",
       "      <td>...</td>\n",
       "      <td>https://pbs.twimg.com/profile_images/656793310...</td>\n",
       "      <td>0</td>\n",
       "      <td>C0DEED</td>\n",
       "      <td>@lookupondeath ...Fine, and I'll drink tea too...</td>\n",
       "      <td>NaN</td>\n",
       "      <td>783</td>\n",
       "      <td>10/26/15 13:20</td>\n",
       "      <td>6.587400e+17</td>\n",
       "      <td>Verona ªÁ</td>\n",
       "      <td>NaN</td>\n",
       "    </tr>\n",
       "    <tr>\n",
       "      <th>20046</th>\n",
       "      <td>815757681</td>\n",
       "      <td>True</td>\n",
       "      <td>golden</td>\n",
       "      <td>248</td>\n",
       "      <td>NaN</td>\n",
       "      <td>male</td>\n",
       "      <td>1.0000</td>\n",
       "      <td>yes</td>\n",
       "      <td>1.0</td>\n",
       "      <td>8/15/12 21:17</td>\n",
       "      <td>...</td>\n",
       "      <td>https://pbs.twimg.com/profile_images/639815429...</td>\n",
       "      <td>0</td>\n",
       "      <td>0</td>\n",
       "      <td>Greg Hardy you a good player and all but don't...</td>\n",
       "      <td>NaN</td>\n",
       "      <td>13523</td>\n",
       "      <td>10/26/15 12:40</td>\n",
       "      <td>6.587300e+17</td>\n",
       "      <td>Kansas City, MO</td>\n",
       "      <td>NaN</td>\n",
       "    </tr>\n",
       "    <tr>\n",
       "      <th>20047</th>\n",
       "      <td>815757830</td>\n",
       "      <td>True</td>\n",
       "      <td>golden</td>\n",
       "      <td>264</td>\n",
       "      <td>NaN</td>\n",
       "      <td>male</td>\n",
       "      <td>1.0000</td>\n",
       "      <td>yes</td>\n",
       "      <td>1.0</td>\n",
       "      <td>9/3/12 1:17</td>\n",
       "      <td>...</td>\n",
       "      <td>https://pbs.twimg.com/profile_images/655473271...</td>\n",
       "      <td>0</td>\n",
       "      <td>C0DEED</td>\n",
       "      <td>You can miss people and still never want to se...</td>\n",
       "      <td>NaN</td>\n",
       "      <td>26419</td>\n",
       "      <td>10/26/15 13:20</td>\n",
       "      <td>6.587400e+17</td>\n",
       "      <td>Lagos Nigeria</td>\n",
       "      <td>NaN</td>\n",
       "    </tr>\n",
       "    <tr>\n",
       "      <th>20048</th>\n",
       "      <td>815757921</td>\n",
       "      <td>True</td>\n",
       "      <td>golden</td>\n",
       "      <td>250</td>\n",
       "      <td>NaN</td>\n",
       "      <td>female</td>\n",
       "      <td>0.8489</td>\n",
       "      <td>yes</td>\n",
       "      <td>1.0</td>\n",
       "      <td>11/6/12 23:46</td>\n",
       "      <td>...</td>\n",
       "      <td>https://pbs.twimg.com/profile_images/657716093...</td>\n",
       "      <td>0</td>\n",
       "      <td>0</td>\n",
       "      <td>@bitemyapp i had noticed your tendency to pee ...</td>\n",
       "      <td>NaN</td>\n",
       "      <td>56073</td>\n",
       "      <td>10/26/15 12:40</td>\n",
       "      <td>6.587300e+17</td>\n",
       "      <td>Texas Hill Country</td>\n",
       "      <td>NaN</td>\n",
       "    </tr>\n",
       "    <tr>\n",
       "      <th>20049</th>\n",
       "      <td>815757985</td>\n",
       "      <td>True</td>\n",
       "      <td>golden</td>\n",
       "      <td>249</td>\n",
       "      <td>NaN</td>\n",
       "      <td>female</td>\n",
       "      <td>1.0000</td>\n",
       "      <td>yes</td>\n",
       "      <td>1.0</td>\n",
       "      <td>4/14/14 17:22</td>\n",
       "      <td>...</td>\n",
       "      <td>https://pbs.twimg.com/profile_images/655134724...</td>\n",
       "      <td>0</td>\n",
       "      <td>C0DEED</td>\n",
       "      <td>I think for my APUSH creative project I'm goin...</td>\n",
       "      <td>NaN</td>\n",
       "      <td>2922</td>\n",
       "      <td>10/26/15 13:19</td>\n",
       "      <td>6.587400e+17</td>\n",
       "      <td>NaN</td>\n",
       "      <td>NaN</td>\n",
       "    </tr>\n",
       "  </tbody>\n",
       "</table>\n",
       "<p>7 rows × 26 columns</p>\n",
       "</div>"
      ],
      "text/plain": [
       "        _unit_id  _golden _unit_state  _trusted_judgments _last_judgment_at  \\\n",
       "20043  815756700     True      golden                 240               NaN   \n",
       "20044  815756767     True      golden                 227               NaN   \n",
       "20045  815757572     True      golden                 259               NaN   \n",
       "20046  815757681     True      golden                 248               NaN   \n",
       "20047  815757830     True      golden                 264               NaN   \n",
       "20048  815757921     True      golden                 250               NaN   \n",
       "20049  815757985     True      golden                 249               NaN   \n",
       "\n",
       "       gender  gender:confidence profile_yn  profile_yn:confidence  \\\n",
       "20043    male             1.0000        yes                    1.0   \n",
       "20044  female             1.0000        yes                    1.0   \n",
       "20045  female             1.0000        yes                    1.0   \n",
       "20046    male             1.0000        yes                    1.0   \n",
       "20047    male             1.0000        yes                    1.0   \n",
       "20048  female             0.8489        yes                    1.0   \n",
       "20049  female             1.0000        yes                    1.0   \n",
       "\n",
       "             created  ...                                       profileimage  \\\n",
       "20043   9/27/11 0:19  ...  https://pbs.twimg.com/profile_images/378800000...   \n",
       "20044   6/11/14 1:55  ...  https://pbs.twimg.com/profile_images/643483977...   \n",
       "20045   8/5/15 21:16  ...  https://pbs.twimg.com/profile_images/656793310...   \n",
       "20046  8/15/12 21:17  ...  https://pbs.twimg.com/profile_images/639815429...   \n",
       "20047    9/3/12 1:17  ...  https://pbs.twimg.com/profile_images/655473271...   \n",
       "20048  11/6/12 23:46  ...  https://pbs.twimg.com/profile_images/657716093...   \n",
       "20049  4/14/14 17:22  ...  https://pbs.twimg.com/profile_images/655134724...   \n",
       "\n",
       "       retweet_count sidebar_color  \\\n",
       "20043              1        5ED4DC   \n",
       "20044              0        C0DEED   \n",
       "20045              0        C0DEED   \n",
       "20046              0             0   \n",
       "20047              0        C0DEED   \n",
       "20048              0             0   \n",
       "20049              0        C0DEED   \n",
       "\n",
       "                                                    text tweet_coord  \\\n",
       "20043  Game faggot and venison loin, crisp spelt and ...         NaN   \n",
       "20044  Need A Ride Home From Practice _Ù÷Ô_Ù÷Ô_Ù÷ÔAnd...         NaN   \n",
       "20045  @lookupondeath ...Fine, and I'll drink tea too...         NaN   \n",
       "20046  Greg Hardy you a good player and all but don't...         NaN   \n",
       "20047  You can miss people and still never want to se...         NaN   \n",
       "20048  @bitemyapp i had noticed your tendency to pee ...         NaN   \n",
       "20049  I think for my APUSH creative project I'm goin...         NaN   \n",
       "\n",
       "      tweet_count   tweet_created      tweet_id      tweet_location  \\\n",
       "20043        8193  10/26/15 13:19  6.587400e+17     Chertsey Bridge   \n",
       "20044        6669  10/26/15 13:19  6.587400e+17                 NaN   \n",
       "20045         783  10/26/15 13:20  6.587400e+17          Verona ªÁ   \n",
       "20046       13523  10/26/15 12:40  6.587300e+17     Kansas City, MO   \n",
       "20047       26419  10/26/15 13:20  6.587400e+17      Lagos Nigeria    \n",
       "20048       56073  10/26/15 12:40  6.587300e+17  Texas Hill Country   \n",
       "20049        2922  10/26/15 13:19  6.587400e+17                 NaN   \n",
       "\n",
       "      user_timezone  \n",
       "20043           NaN  \n",
       "20044           NaN  \n",
       "20045           NaN  \n",
       "20046           NaN  \n",
       "20047           NaN  \n",
       "20048           NaN  \n",
       "20049           NaN  \n",
       "\n",
       "[7 rows x 26 columns]"
      ]
     },
     "execution_count": 2,
     "metadata": {},
     "output_type": "execute_result"
    }
   ],
   "source": [
    "df = pd.read_csv(\"gender-classifier-DFE-791531.csv\", encoding = \"latin1\")\n",
    "df.tail(7)"
   ]
  },
  {
   "cell_type": "code",
   "execution_count": 3,
   "id": "1ae0efc6",
   "metadata": {},
   "outputs": [
    {
     "name": "stdout",
     "output_type": "stream",
     "text": [
      "<class 'pandas.core.frame.DataFrame'>\n",
      "RangeIndex: 20050 entries, 0 to 20049\n",
      "Data columns (total 26 columns):\n",
      " #   Column                 Non-Null Count  Dtype  \n",
      "---  ------                 --------------  -----  \n",
      " 0   _unit_id               20050 non-null  int64  \n",
      " 1   _golden                20050 non-null  bool   \n",
      " 2   _unit_state            20050 non-null  object \n",
      " 3   _trusted_judgments     20050 non-null  int64  \n",
      " 4   _last_judgment_at      20000 non-null  object \n",
      " 5   gender                 19953 non-null  object \n",
      " 6   gender:confidence      20024 non-null  float64\n",
      " 7   profile_yn             20050 non-null  object \n",
      " 8   profile_yn:confidence  20050 non-null  float64\n",
      " 9   created                20050 non-null  object \n",
      " 10  description            16306 non-null  object \n",
      " 11  fav_number             20050 non-null  int64  \n",
      " 12  gender_gold            50 non-null     object \n",
      " 13  link_color             20050 non-null  object \n",
      " 14  name                   20050 non-null  object \n",
      " 15  profile_yn_gold        50 non-null     object \n",
      " 16  profileimage           20050 non-null  object \n",
      " 17  retweet_count          20050 non-null  int64  \n",
      " 18  sidebar_color          20050 non-null  object \n",
      " 19  text                   20050 non-null  object \n",
      " 20  tweet_coord            159 non-null    object \n",
      " 21  tweet_count            20050 non-null  int64  \n",
      " 22  tweet_created          20050 non-null  object \n",
      " 23  tweet_id               20050 non-null  float64\n",
      " 24  tweet_location         12566 non-null  object \n",
      " 25  user_timezone          12252 non-null  object \n",
      "dtypes: bool(1), float64(3), int64(5), object(17)\n",
      "memory usage: 3.8+ MB\n"
     ]
    }
   ],
   "source": [
    "df.info()"
   ]
  },
  {
   "cell_type": "code",
   "execution_count": 4,
   "id": "f64bfe82",
   "metadata": {},
   "outputs": [
    {
     "data": {
      "text/html": [
       "<div>\n",
       "<style scoped>\n",
       "    .dataframe tbody tr th:only-of-type {\n",
       "        vertical-align: middle;\n",
       "    }\n",
       "\n",
       "    .dataframe tbody tr th {\n",
       "        vertical-align: top;\n",
       "    }\n",
       "\n",
       "    .dataframe thead th {\n",
       "        text-align: right;\n",
       "    }\n",
       "</style>\n",
       "<table border=\"1\" class=\"dataframe\">\n",
       "  <thead>\n",
       "    <tr style=\"text-align: right;\">\n",
       "      <th></th>\n",
       "      <th>gender</th>\n",
       "      <th>description</th>\n",
       "    </tr>\n",
       "  </thead>\n",
       "  <tbody>\n",
       "    <tr>\n",
       "      <th>0</th>\n",
       "      <td>male</td>\n",
       "      <td>i sing my own rhythm.</td>\n",
       "    </tr>\n",
       "    <tr>\n",
       "      <th>1</th>\n",
       "      <td>male</td>\n",
       "      <td>I'm the author of novels filled with family dr...</td>\n",
       "    </tr>\n",
       "    <tr>\n",
       "      <th>2</th>\n",
       "      <td>male</td>\n",
       "      <td>louis whining and squealing and all</td>\n",
       "    </tr>\n",
       "    <tr>\n",
       "      <th>3</th>\n",
       "      <td>male</td>\n",
       "      <td>Mobile guy.  49ers, Shazam, Google, Kleiner Pe...</td>\n",
       "    </tr>\n",
       "    <tr>\n",
       "      <th>4</th>\n",
       "      <td>female</td>\n",
       "      <td>Ricky Wilson The Best FRONTMAN/Kaiser Chiefs T...</td>\n",
       "    </tr>\n",
       "    <tr>\n",
       "      <th>5</th>\n",
       "      <td>female</td>\n",
       "      <td>you don't know me.</td>\n",
       "    </tr>\n",
       "    <tr>\n",
       "      <th>6</th>\n",
       "      <td>brand</td>\n",
       "      <td>A global marketplace for images, videos and mu...</td>\n",
       "    </tr>\n",
       "  </tbody>\n",
       "</table>\n",
       "</div>"
      ],
      "text/plain": [
       "   gender                                        description\n",
       "0    male                              i sing my own rhythm.\n",
       "1    male  I'm the author of novels filled with family dr...\n",
       "2    male                louis whining and squealing and all\n",
       "3    male  Mobile guy.  49ers, Shazam, Google, Kleiner Pe...\n",
       "4  female  Ricky Wilson The Best FRONTMAN/Kaiser Chiefs T...\n",
       "5  female                                 you don't know me.\n",
       "6   brand  A global marketplace for images, videos and mu..."
      ]
     },
     "execution_count": 4,
     "metadata": {},
     "output_type": "execute_result"
    }
   ],
   "source": [
    "data = pd.concat([df.gender,df.description],axis = 1)\n",
    "data.head(7)"
   ]
  },
  {
   "cell_type": "markdown",
   "id": "d46688dd",
   "metadata": {},
   "source": [
    "# data cleaning"
   ]
  },
  {
   "cell_type": "code",
   "execution_count": 5,
   "id": "d00dcb83",
   "metadata": {},
   "outputs": [],
   "source": [
    "# NaN verilerin temizlenmesi\n",
    "data.dropna(axis = 0,inplace = True) # axis = 0 : satır olarak dropla"
   ]
  },
  {
   "cell_type": "code",
   "execution_count": 41,
   "id": "6d3a0c42",
   "metadata": {},
   "outputs": [
    {
     "data": {
      "text/html": [
       "<div>\n",
       "<style scoped>\n",
       "    .dataframe tbody tr th:only-of-type {\n",
       "        vertical-align: middle;\n",
       "    }\n",
       "\n",
       "    .dataframe tbody tr th {\n",
       "        vertical-align: top;\n",
       "    }\n",
       "\n",
       "    .dataframe thead th {\n",
       "        text-align: right;\n",
       "    }\n",
       "</style>\n",
       "<table border=\"1\" class=\"dataframe\">\n",
       "  <thead>\n",
       "    <tr style=\"text-align: right;\">\n",
       "      <th></th>\n",
       "      <th>gender</th>\n",
       "      <th>description</th>\n",
       "    </tr>\n",
       "  </thead>\n",
       "  <tbody>\n",
       "    <tr>\n",
       "      <th>20043</th>\n",
       "      <td>0</td>\n",
       "      <td>Head Chef, Chez Bruce. Loves Cars and Bicycles...</td>\n",
       "    </tr>\n",
       "    <tr>\n",
       "      <th>20044</th>\n",
       "      <td>0</td>\n",
       "      <td>I Love Me...Myself....&amp;....I</td>\n",
       "    </tr>\n",
       "    <tr>\n",
       "      <th>20045</th>\n",
       "      <td>0</td>\n",
       "      <td>(rp)</td>\n",
       "    </tr>\n",
       "    <tr>\n",
       "      <th>20046</th>\n",
       "      <td>0</td>\n",
       "      <td>Whatever you like, it's not a problem at all. ...</td>\n",
       "    </tr>\n",
       "    <tr>\n",
       "      <th>20047</th>\n",
       "      <td>0</td>\n",
       "      <td>#TeamBarcelona ..You look lost so you should f...</td>\n",
       "    </tr>\n",
       "    <tr>\n",
       "      <th>20048</th>\n",
       "      <td>0</td>\n",
       "      <td>Anti-statist; I homeschool my kids. Aspiring t...</td>\n",
       "    </tr>\n",
       "    <tr>\n",
       "      <th>20049</th>\n",
       "      <td>0</td>\n",
       "      <td>Teamwork makes the dream work.</td>\n",
       "    </tr>\n",
       "  </tbody>\n",
       "</table>\n",
       "</div>"
      ],
      "text/plain": [
       "       gender                                        description\n",
       "20043       0  Head Chef, Chez Bruce. Loves Cars and Bicycles...\n",
       "20044       0                       I Love Me...Myself....&....I\n",
       "20045       0                                               (rp)\n",
       "20046       0  Whatever you like, it's not a problem at all. ...\n",
       "20047       0  #TeamBarcelona ..You look lost so you should f...\n",
       "20048       0  Anti-statist; I homeschool my kids. Aspiring t...\n",
       "20049       0                     Teamwork makes the dream work."
      ]
     },
     "execution_count": 41,
     "metadata": {},
     "output_type": "execute_result"
    }
   ],
   "source": [
    "# cinsiyetlerin 1 ve 0 olarak ayrılması\n",
    "data.gender = [1 if each == \"female\" else 0 for each in data.gender]\n",
    "data.tail(7)"
   ]
  },
  {
   "cell_type": "markdown",
   "id": "206f9a16",
   "metadata": {},
   "source": [
    "### regular expression (RE)\n",
    "#### 1 string üstünden cleaning incelenip ardından tüm dataset için uygulanacaktır"
   ]
  },
  {
   "cell_type": "code",
   "execution_count": 7,
   "id": "d4dcaa57",
   "metadata": {},
   "outputs": [
    {
     "data": {
      "text/plain": [
       "'Ricky Wilson The Best FRONTMAN/Kaiser Chiefs The Best BAND Xxxx Thank you Kaiser Chiefs for an incredible year of gigs and memories to cherish always :) Xxxxxxx'"
      ]
     },
     "execution_count": 7,
     "metadata": {},
     "output_type": "execute_result"
    }
   ],
   "source": [
    "import re\n",
    "test_description = data.description[4]\n",
    "test_description"
   ]
  },
  {
   "cell_type": "code",
   "execution_count": 8,
   "id": "2ac217c0",
   "metadata": {},
   "outputs": [
    {
     "data": {
      "text/plain": [
       "'ricky wilson the best frontman kaiser chiefs the best band xxxx thank you kaiser chiefs for an incredible year of gigs and memories to cherish always    xxxxxxx'"
      ]
     },
     "execution_count": 8,
     "metadata": {},
     "output_type": "execute_result"
    }
   ],
   "source": [
    "test_description = re.sub(\"[^a-zA-Z]\" , \" \", test_description)\n",
    "# a'dan z'ye VE A'dan Z'ye kadar charlardan olmayan(^) diğer charları \" \"(boşluk) ile değiştirir\n",
    "# ve bu işlemi test_description için yapar\n",
    "\n",
    "test_description = test_description.lower()\n",
    "# tüm harfleri lower case yapar\n",
    "\n",
    "test_description"
   ]
  },
  {
   "cell_type": "markdown",
   "id": "a2989120",
   "metadata": {},
   "source": [
    "### stopwords (irrelavent words) gereksiz kelimeler\n",
    "#### örneğin : I go to the school and home - Bu cümledeki the,and vb. kelimeler gereksizdir. ayırt edici özelliğe sahip kelimeler değillerdir"
   ]
  },
  {
   "cell_type": "code",
   "execution_count": 11,
   "id": "612940bc",
   "metadata": {},
   "outputs": [
    {
     "name": "stderr",
     "output_type": "stream",
     "text": [
      "[nltk_data] Downloading package stopwords to\n",
      "[nltk_data]     C:\\Users\\Bedirhan\\AppData\\Roaming\\nltk_data...\n",
      "[nltk_data]   Package stopwords is already up-to-date!\n",
      "[nltk_data] Downloading package punkt to\n",
      "[nltk_data]     C:\\Users\\Bedirhan\\AppData\\Roaming\\nltk_data...\n",
      "[nltk_data]   Unzipping tokenizers\\punkt.zip.\n"
     ]
    }
   ],
   "source": [
    "import nltk\n",
    "#natural language tool kit\n",
    "nltk.download(\"stopwords\") #stopwords kütüphanesini corpus'a indiriyorum\n",
    "nltk.download('punkt')\n",
    "from nltk.corpus import stopwords"
   ]
  },
  {
   "cell_type": "code",
   "execution_count": 12,
   "id": "a1d00a3e",
   "metadata": {},
   "outputs": [
    {
     "data": {
      "text/plain": [
       "['ricky',\n",
       " 'wilson',\n",
       " 'the',\n",
       " 'best',\n",
       " 'frontman',\n",
       " 'kaiser',\n",
       " 'chiefs',\n",
       " 'the',\n",
       " 'best',\n",
       " 'band',\n",
       " 'xxxx',\n",
       " 'thank',\n",
       " 'you',\n",
       " 'kaiser',\n",
       " 'chiefs',\n",
       " 'for',\n",
       " 'an',\n",
       " 'incredible',\n",
       " 'year',\n",
       " 'of',\n",
       " 'gigs',\n",
       " 'and',\n",
       " 'memories',\n",
       " 'to',\n",
       " 'cherish',\n",
       " 'always',\n",
       " 'xxxxxxx']"
      ]
     },
     "execution_count": 12,
     "metadata": {},
     "output_type": "execute_result"
    }
   ],
   "source": [
    "test_description = nltk.word_tokenize(test_description)\n",
    "#stringimi, içindeki kelimeler stopwords'ler ile eşleşiyor mu diye kontrol etmek için kelimelerine ayırıyorum\n",
    "# tokenizer yerine .split() de kullanılabilir ama \"shouldn't gibi kelimeler \"should\" ve \"n't\" şeklinde ayrılmaz\n",
    "test_description"
   ]
  },
  {
   "cell_type": "code",
   "execution_count": 13,
   "id": "7046aa4f",
   "metadata": {},
   "outputs": [
    {
     "data": {
      "text/plain": [
       "['ricky',\n",
       " 'wilson',\n",
       " 'best',\n",
       " 'frontman',\n",
       " 'kaiser',\n",
       " 'chiefs',\n",
       " 'best',\n",
       " 'band',\n",
       " 'xxxx',\n",
       " 'thank',\n",
       " 'kaiser',\n",
       " 'chiefs',\n",
       " 'incredible',\n",
       " 'year',\n",
       " 'gigs',\n",
       " 'memories',\n",
       " 'cherish',\n",
       " 'always',\n",
       " 'xxxxxxx']"
      ]
     },
     "execution_count": 13,
     "metadata": {},
     "output_type": "execute_result"
    }
   ],
   "source": [
    "test_description = [each for each in test_description if not each in set(stopwords.words(\"english\"))]\n",
    "test_description"
   ]
  },
  {
   "cell_type": "markdown",
   "id": "de797493",
   "metadata": {},
   "source": [
    "### Lemmatazation\n",
    "#### ek almış veya değişmiş kelimelerin, kök hallerine erişmek için kullanılır. Örneğin ; Loved => Love"
   ]
  },
  {
   "cell_type": "code",
   "execution_count": 15,
   "id": "a17ddc19",
   "metadata": {},
   "outputs": [
    {
     "name": "stderr",
     "output_type": "stream",
     "text": [
      "[nltk_data] Downloading package wordnet to\n",
      "[nltk_data]     C:\\Users\\Bedirhan\\AppData\\Roaming\\nltk_data...\n"
     ]
    },
    {
     "data": {
      "text/plain": [
       "['ricky',\n",
       " 'wilson',\n",
       " 'best',\n",
       " 'frontman',\n",
       " 'kaiser',\n",
       " 'chief',\n",
       " 'best',\n",
       " 'band',\n",
       " 'xxxx',\n",
       " 'thank',\n",
       " 'kaiser',\n",
       " 'chief',\n",
       " 'incredible',\n",
       " 'year',\n",
       " 'gig',\n",
       " 'memory',\n",
       " 'cherish',\n",
       " 'always',\n",
       " 'xxxxxxx']"
      ]
     },
     "execution_count": 15,
     "metadata": {},
     "output_type": "execute_result"
    }
   ],
   "source": [
    "nltk.download('wordnet')\n",
    "lemma = nltk.WordNetLemmatizer()\n",
    "test_description = [lemma.lemmatize(each) for each in test_description]\n",
    "test_description"
   ]
  },
  {
   "cell_type": "markdown",
   "id": "8e8ee9b7",
   "metadata": {},
   "source": [
    "#### Kelimeleri tekrardan birleştirerek bir string haline getirelim"
   ]
  },
  {
   "cell_type": "code",
   "execution_count": 17,
   "id": "1a702b7a",
   "metadata": {},
   "outputs": [
    {
     "data": {
      "text/plain": [
       "'ricky wilson best frontman kaiser chief best band xxxx thank kaiser chief incredible year gig memory cherish always xxxxxxx'"
      ]
     },
     "execution_count": 17,
     "metadata": {},
     "output_type": "execute_result"
    }
   ],
   "source": [
    "test_description = \" \".join(test_description)\n",
    "# stringleri \" \" ile birleştirir\n",
    "\n",
    "test_description"
   ]
  },
  {
   "cell_type": "markdown",
   "id": "7958fad7",
   "metadata": {},
   "source": [
    "## Tek string için gerçekleştirdiğimiz bu temizleme işlemlerini şimdi tüm data için yapalım"
   ]
  },
  {
   "cell_type": "code",
   "execution_count": 27,
   "id": "c1b9fc1c",
   "metadata": {},
   "outputs": [],
   "source": [
    "description_list = []\n",
    "for text in data.description:\n",
    "    text = re.sub(\"[^a-zA-Z]\" , \" \", text)\n",
    "    text = text.lower()\n",
    "    text = nltk.word_tokenize(text)\n",
    "    text = [each for each in text if not each in set(stopwords.words(\"english\"))]\n",
    "    text = [lemma.lemmatize(each) for each in text]\n",
    "    text = \" \".join(text)\n",
    "    description_list.append(text)"
   ]
  },
  {
   "cell_type": "markdown",
   "id": "fbe17e8b",
   "metadata": {},
   "source": [
    "# Bag Of Words"
   ]
  },
  {
   "attachments": {
    "bag_of_words.png": {
     "image/png": "[encoded data removed]"
    }
   },
   "cell_type": "markdown",
   "id": "54bc5079",
   "metadata": {},
   "source": [
    "![bag_of_words.png](attachment:bag_of_words.png)"
   ]
  },
  {
   "cell_type": "code",
   "execution_count": 32,
   "id": "36a44566",
   "metadata": {},
   "outputs": [],
   "source": [
    "from sklearn.feature_extraction.text import CountVectorizer\n",
    "max_features = 500\n",
    "# kelime çok fazla olacağı için maksimum feature değeri oluşturulur"
   ]
  },
  {
   "cell_type": "code",
   "execution_count": 38,
   "id": "a82f20fd",
   "metadata": {},
   "outputs": [
    {
     "data": {
      "text/plain": [
       "array([[0, 0, 0, ..., 0, 0, 0],\n",
       "       [0, 0, 0, ..., 0, 0, 0],\n",
       "       [0, 0, 0, ..., 0, 0, 0],\n",
       "       ...,\n",
       "       [0, 0, 0, ..., 0, 0, 0],\n",
       "       [0, 0, 0, ..., 0, 0, 0],\n",
       "       [0, 0, 0, ..., 0, 0, 0]], dtype=int64)"
      ]
     },
     "execution_count": 38,
     "metadata": {},
     "output_type": "execute_result"
    }
   ],
   "source": [
    "count_vectorizer = CountVectorizer(max_features = max_features , stop_words = \"english\") \n",
    "#stop_words parametre olarak da kullanılabilir\n",
    "\n",
    "sparce_matrix = count_vectorizer.fit_transform(description_list).toarray()\n",
    "sparce_matrix"
   ]
  },
  {
   "cell_type": "code",
   "execution_count": 40,
   "id": "39777665",
   "metadata": {},
   "outputs": [
    {
     "name": "stdout",
     "output_type": "stream",
     "text": [
      "en sık kullanılan 500 kelime :  ['account' 'activist' 'actor' 'addict' 'adult' 'adventure' 'advocate'\n",
      " 'alum' 'amazing' 'america' 'american' 'angel' 'animal' 'anime' 'app'\n",
      " 'area' 'art' 'artist' 'ask' 'aspiring' 'author' 'award' 'away' 'awesome'\n",
      " 'baby' 'bad' 'band' 'based' 'beautiful' 'beauty' 'beer' 'believe' 'best'\n",
      " 'better' 'big' 'bio' 'bit' 'bitch' 'black' 'blog' 'blogger' 'blue' 'book'\n",
      " 'booking' 'born' 'bot' 'boy' 'brand' 'breaking' 'building' 'business'\n",
      " 'ca' 'car' 'care' 'cat' 'cause' 'ceo' 'certified' 'change' 'channel'\n",
      " 'check' 'chicago' 'chief' 'child' 'christ' 'christian' 'city' 'class'\n",
      " 'club' 'coach' 'coffee' 'college' 'com' 'come' 'comic' 'coming'\n",
      " 'communication' 'community' 'company' 'computer' 'conservative'\n",
      " 'consultant' 'contact' 'content' 'continuous' 'control' 'cool' 'country'\n",
      " 'county' 'crazy' 'create' 'creative' 'creator' 'culture' 'currently'\n",
      " 'dad' 'daily' 'dance' 'data' 'day' 'deal' 'dedicated' 'design' 'designer'\n",
      " 'developer' 'development' 'die' 'digital' 'direction' 'director' 'dj'\n",
      " 'dm' 'dog' 'dont' 'dream' 'dreamer' 'eat' 'editor' 'education' 'el'\n",
      " 'email' 'en' 'end' 'endorsement' 'engineer' 'english' 'enjoy'\n",
      " 'entertainment' 'enthusiast' 'entrepreneur' 'estate' 'event' 'everyday'\n",
      " 'experience' 'expert' 'eye' 'facebook' 'family' 'fan' 'fanatic' 'fantasy'\n",
      " 'fashion' 'father' 'favorite' 'fc' 'feed' 'feel' 'feminist' 'film'\n",
      " 'finding' 'fitness' 'follow' 'followed' 'follower' 'food' 'football'\n",
      " 'forever' 'founder' 'free' 'freelance' 'friend' 'fuck' 'fun' 'future'\n",
      " 'game' 'gamer' 'gaming' 'gay' 'geek' 'general' 'girl' 'global' 'gmail'\n",
      " 'god' 'going' 'gon' 'good' 'google' 'got' 'graduate' 'graphic' 'great'\n",
      " 'group' 'guy' 'hair' 'hand' 'happiness' 'happy' 'hard' 'harry' 'hate'\n",
      " 'head' 'health' 'heart' 'hello' 'help' 'helping' 'hey' 'hi' 'high' 'hip'\n",
      " 'history' 'hockey' 'home' 'hop' 'hope' 'host' 'house' 'http' 'huge'\n",
      " 'human' 'husband' 'idea' 'ig' 'im' 'improve' 'independent' 'industry'\n",
      " 'info' 'information' 'inquiry' 'inspirational' 'insta' 'instagram'\n",
      " 'interested' 'international' 'internet' 'jesus' 'job' 'join' 'journalist'\n",
      " 'junkie' 'justin' 'kid' 'kind' 'king' 'know' 'la' 'lady' 'latest' 'laugh'\n",
      " 'law' 'le' 'leader' 'leading' 'league' 'learn' 'learning' 'left' 'let'\n",
      " 'life' 'lifestyle' 'light' 'like' 'link' 'little' 'live' 'living' 'local'\n",
      " 'london' 'long' 'look' 'looking' 'lost' 'lot' 'louis' 'love' 'lover'\n",
      " 'loving' 'magazine' 'major' 'make' 'maker' 'making' 'man' 'management'\n",
      " 'manager' 'map' 'marketing' 'married' 'master' 'matter' 'mean' 'medium'\n",
      " 'meet' 'member' 'mi' 'mind' 'mobile' 'model' 'mom' 'money' 'mother'\n",
      " 'movie' 'mum' 'music' 'musician' 'na' 'nation' 'national' 'nature' 'need'\n",
      " 'nerd' 'network' 'new' 'news' 'night' 'non' 'north' 'nsfw' 'obsessed'\n",
      " 'offer' 'official' 'oh' 'old' 'online' 'open' 'opinion' 'owner' 'page'\n",
      " 'partner' 'party' 'passion' 'passionate' 'peace' 'people' 'perfect'\n",
      " 'person' 'personal' 'photo' 'photographer' 'photography' 'pic' 'picture'\n",
      " 'place' 'play' 'player' 'playing' 'pm' 'podcast' 'politics' 'pop'\n",
      " 'positive' 'post' 'power' 'pr' 'price' 'pro' 'probably' 'producer'\n",
      " 'product' 'prof' 'professional' 'program' 'project' 'promoting' 'proud'\n",
      " 'provide' 'providing' 'public' 'quality' 'que' 'queen' 'question' 'radio'\n",
      " 'random' 'read' 'reader' 'reading' 'real' 'really' 'red' 'reporter'\n",
      " 'research' 'resource' 'retired' 'retweets' 'review' 'right' 'rip' 'rock'\n",
      " 'rp' 'rt' 'run' 'sale' 'say' 'sc' 'school' 'science' 'seattle' 'secret'\n",
      " 'self' 'senior' 'series' 'service' 'share' 'shit' 'shop' 'short' 'simple'\n",
      " 'singer' 'single' 'site' 'small' 'smile' 'snapchat' 'social' 'software'\n",
      " 'solution' 'son' 'song' 'songwriter' 'soul' 'source' 'south' 'space'\n",
      " 'speaker' 'special' 'specialist' 'sport' 'st' 'star' 'start' 'state'\n",
      " 'station' 'stay' 'stop' 'story' 'street' 'strong' 'student' 'stuff'\n",
      " 'style' 'subscribe' 'success' 'support' 'supporter' 'talk' 'tea'\n",
      " 'teacher' 'team' 'tech' 'technology' 'tell' 'th' 'thing' 'think'\n",
      " 'thought' 'time' 'tip' 'today' 'training' 'travel' 'true' 'truth' 'try'\n",
      " 'trying' 'tv' 'tweet' 'tweeting' 'tweetmyjobs' 'twitter' 'uk' 'united'\n",
      " 'university' 'update' 'use' 'video' 'view' 'visit' 'voice' 'wan' 'want'\n",
      " 'war' 'watch' 'way' 'weather' 'web' 'website' 'welcome' 'west' 'white'\n",
      " 'wife' 'wine' 'winner' 'winning' 'woman' 'word' 'work' 'working' 'world'\n",
      " 'write' 'writer' 'writing' 'year' 'yo' 'york' 'young' 'youtube'\n",
      " 'youtuber']\n"
     ]
    }
   ],
   "source": [
    "print(\"en sık kullanılan 500 kelime : \" , count_vectorizer.get_feature_names_out())"
   ]
  },
  {
   "cell_type": "code",
   "execution_count": 45,
   "id": "cc5157c8",
   "metadata": {},
   "outputs": [],
   "source": [
    "y = data[\"gender\"].values\n",
    "x = sparce_matrix"
   ]
  },
  {
   "cell_type": "code",
   "execution_count": 46,
   "id": "907e269f",
   "metadata": {},
   "outputs": [],
   "source": [
    "from sklearn.model_selection import train_test_split\n",
    "x_train, x_test, y_train, y_test = train_test_split(x,y, test_size=0.1 , random_state = 0)"
   ]
  },
  {
   "cell_type": "markdown",
   "id": "9962e1d1",
   "metadata": {},
   "source": [
    "## Naive Bayes"
   ]
  },
  {
   "cell_type": "code",
   "execution_count": 48,
   "id": "f4c27c78",
   "metadata": {},
   "outputs": [
    {
     "data": {
      "text/html": [
       "<style>#sk-container-id-1 {color: black;}#sk-container-id-1 pre{padding: 0;}#sk-container-id-1 div.sk-toggleable {background-color: white;}#sk-container-id-1 label.sk-toggleable__label {cursor: pointer;display: block;width: 100%;margin-bottom: 0;padding: 0.3em;box-sizing: border-box;text-align: center;}#sk-container-id-1 label.sk-toggleable__label-arrow:before {content: \"▸\";float: left;margin-right: 0.25em;color: #696969;}#sk-container-id-1 label.sk-toggleable__label-arrow:hover:before {color: black;}#sk-container-id-1 div.sk-estimator:hover label.sk-toggleable__label-arrow:before {color: black;}#sk-container-id-1 div.sk-toggleable__content {max-height: 0;max-width: 0;overflow: hidden;text-align: left;background-color: #f0f8ff;}#sk-container-id-1 div.sk-toggleable__content pre {margin: 0.2em;color: black;border-radius: 0.25em;background-color: #f0f8ff;}#sk-container-id-1 input.sk-toggleable__control:checked~div.sk-toggleable__content {max-height: 200px;max-width: 100%;overflow: auto;}#sk-container-id-1 input.sk-toggleable__control:checked~label.sk-toggleable__label-arrow:before {content: \"▾\";}#sk-container-id-1 div.sk-estimator input.sk-toggleable__control:checked~label.sk-toggleable__label {background-color: #d4ebff;}#sk-container-id-1 div.sk-label input.sk-toggleable__control:checked~label.sk-toggleable__label {background-color: #d4ebff;}#sk-container-id-1 input.sk-hidden--visually {border: 0;clip: rect(1px 1px 1px 1px);clip: rect(1px, 1px, 1px, 1px);height: 1px;margin: -1px;overflow: hidden;padding: 0;position: absolute;width: 1px;}#sk-container-id-1 div.sk-estimator {font-family: monospace;background-color: #f0f8ff;border: 1px dotted black;border-radius: 0.25em;box-sizing: border-box;margin-bottom: 0.5em;}#sk-container-id-1 div.sk-estimator:hover {background-color: #d4ebff;}#sk-container-id-1 div.sk-parallel-item::after {content: \"\";width: 100%;border-bottom: 1px solid gray;flex-grow: 1;}#sk-container-id-1 div.sk-label:hover label.sk-toggleable__label {background-color: #d4ebff;}#sk-container-id-1 div.sk-serial::before {content: \"\";position: absolute;border-left: 1px solid gray;box-sizing: border-box;top: 0;bottom: 0;left: 50%;z-index: 0;}#sk-container-id-1 div.sk-serial {display: flex;flex-direction: column;align-items: center;background-color: white;padding-right: 0.2em;padding-left: 0.2em;position: relative;}#sk-container-id-1 div.sk-item {position: relative;z-index: 1;}#sk-container-id-1 div.sk-parallel {display: flex;align-items: stretch;justify-content: center;background-color: white;position: relative;}#sk-container-id-1 div.sk-item::before, #sk-container-id-1 div.sk-parallel-item::before {content: \"\";position: absolute;border-left: 1px solid gray;box-sizing: border-box;top: 0;bottom: 0;left: 50%;z-index: -1;}#sk-container-id-1 div.sk-parallel-item {display: flex;flex-direction: column;z-index: 1;position: relative;background-color: white;}#sk-container-id-1 div.sk-parallel-item:first-child::after {align-self: flex-end;width: 50%;}#sk-container-id-1 div.sk-parallel-item:last-child::after {align-self: flex-start;width: 50%;}#sk-container-id-1 div.sk-parallel-item:only-child::after {width: 0;}#sk-container-id-1 div.sk-dashed-wrapped {border: 1px dashed gray;margin: 0 0.4em 0.5em 0.4em;box-sizing: border-box;padding-bottom: 0.4em;background-color: white;}#sk-container-id-1 div.sk-label label {font-family: monospace;font-weight: bold;display: inline-block;line-height: 1.2em;}#sk-container-id-1 div.sk-label-container {text-align: center;}#sk-container-id-1 div.sk-container {/* jupyter's `normalize.less` sets `[hidden] { display: none; }` but bootstrap.min.css set `[hidden] { display: none !important; }` so we also need the `!important` here to be able to override the default hidden behavior on the sphinx rendered scikit-learn.org. See: https://github.com/scikit-learn/scikit-learn/issues/21755 */display: inline-block !important;position: relative;}#sk-container-id-1 div.sk-text-repr-fallback {display: none;}</style><div id=\"sk-container-id-1\" class=\"sk-top-container\"><div class=\"sk-text-repr-fallback\"><pre>GaussianNB()</pre><b>In a Jupyter environment, please rerun this cell to show the HTML representation or trust the notebook. <br />On GitHub, the HTML representation is unable to render, please try loading this page with nbviewer.org.</b></div><div class=\"sk-container\" hidden><div class=\"sk-item\"><div class=\"sk-estimator sk-toggleable\"><input class=\"sk-toggleable__control sk-hidden--visually\" id=\"sk-estimator-id-1\" type=\"checkbox\" checked><label for=\"sk-estimator-id-1\" class=\"sk-toggleable__label sk-toggleable__label-arrow\">GaussianNB</label><div class=\"sk-toggleable__content\"><pre>GaussianNB()</pre></div></div></div></div></div>"
      ],
      "text/plain": [
       "GaussianNB()"
      ]
     },
     "execution_count": 48,
     "metadata": {},
     "output_type": "execute_result"
    }
   ],
   "source": [
    "from sklearn.naive_bayes import GaussianNB\n",
    "nb = GaussianNB()\n",
    "nb.fit(x_train,y_train)"
   ]
  },
  {
   "cell_type": "markdown",
   "id": "df23e6e8",
   "metadata": {},
   "source": [
    "### prediction"
   ]
  },
  {
   "cell_type": "code",
   "execution_count": 62,
   "id": "ce5061a0",
   "metadata": {},
   "outputs": [
    {
     "data": {
      "text/plain": [
       "array([0, 0, 0, ..., 0, 0, 0], dtype=int64)"
      ]
     },
     "execution_count": 62,
     "metadata": {},
     "output_type": "execute_result"
    }
   ],
   "source": [
    "y_pred = nb.predict(x_test)\n",
    "y_pred"
   ]
  },
  {
   "cell_type": "code",
   "execution_count": 64,
   "id": "06a9a30f",
   "metadata": {},
   "outputs": [
    {
     "name": "stdout",
     "output_type": "stream",
     "text": [
      "accuracy: 1.0\n"
     ]
    }
   ],
   "source": [
    "y_test_reshaped = np.reshape(y_test, (-1, 1))\n",
    "y_pred_reshaped = np.reshape(y_pred, (-1, 1))\n",
    "accuracy = nb.score(y_pred_reshaped, y_test_reshaped)\n",
    "print(\"accuracy:\", accuracy)"
   ]
  },
  {
   "cell_type": "code",
   "execution_count": null,
   "id": "5412fa7e",
   "metadata": {},
   "outputs": [],
   "source": []
  }
 ],
 "metadata": {
  "kernelspec": {
   "display_name": "Python 3 (ipykernel)",
   "language": "python",
   "name": "python3"
  },
  "language_info": {
   "codemirror_mode": {
    "name": "ipython",
    "version": 3
   },
   "file_extension": ".py",
   "mimetype": "text/x-python",
   "name": "python",
   "nbconvert_exporter": "python",
   "pygments_lexer": "ipython3",
   "version": "3.11.4"
  }
 },
 "nbformat": 4,
 "nbformat_minor": 5
}
