{
 "cells": [
  {
   "cell_type": "markdown",
   "id": "e228992b",
   "metadata": {},
   "source": [
    "### Mean(ortalama) \n",
    "#### verilerin toplami / veri sayisi"
   ]
  },
  {
   "cell_type": "markdown",
   "id": "734ea162",
   "metadata": {},
   "source": [
    "### Median (ortanca değer)\n",
    "#### veriler sıralandığında ortanca değer"
   ]
  },
  {
   "cell_type": "markdown",
   "id": "c5d44aef",
   "metadata": {},
   "source": [
    "### Mode (mod)\n",
    "#### en sık tekrarlanan değer moddur"
   ]
  },
  {
   "cell_type": "markdown",
   "id": "807d8bf6",
   "metadata": {},
   "source": [
    "#"
   ]
  },
  {
   "cell_type": "code",
   "execution_count": 1,
   "id": "d7a950f3",
   "metadata": {},
   "outputs": [],
   "source": [
    "import numpy as np"
   ]
  },
  {
   "cell_type": "code",
   "execution_count": 2,
   "id": "542fa1c6",
   "metadata": {},
   "outputs": [
    {
     "data": {
      "text/plain": [
       "array([ 8108.51199241, 12001.84011886,  9530.29533991,  9029.6055625 ,\n",
       "        4134.2746207 ,  8181.62421556,  9041.24044942, 11072.02644112,\n",
       "        2502.63781277,  5171.00356332,  5512.39150436,  9133.85329475,\n",
       "        8597.66527386,  5773.10142146,  7578.17547246,  6813.38230275,\n",
       "        8395.20373906,  5439.5212955 ,  7402.59587172,  8421.90333602,\n",
       "        5196.99926129,  5849.58260228,  4480.68341051,  9374.4695883 ,\n",
       "        4849.49199306,  5655.30506464,  5151.32880376,  8352.91584311,\n",
       "        7117.3299219 ,  7343.23117306,  4449.31554442,  4971.45346872,\n",
       "        7756.10998654,  6749.07573985,  9243.06075058,  7604.79455843,\n",
       "        6782.28880669,  8958.90275243,  6845.02425601,  8649.5499149 ,\n",
       "        7528.44993892,  5698.11620289,  9938.42174435,  8717.03385346,\n",
       "       11197.74843202,  2863.28903175,  6542.52884906,  3409.70766929,\n",
       "        5595.9499658 ,  6899.20182658,  7364.9319758 ,  6614.15441614,\n",
       "        8034.58356964,  6735.49707278,  4866.12754167,  5451.03193911,\n",
       "        6990.03393523,  9174.46694261,  5800.59539423,  5913.82712696,\n",
       "        9087.86001295,  9318.60113696,  7838.61393433,  6586.72991658,\n",
       "        3618.3905432 , 10506.97554832,  4982.2625351 ,  3980.96536716,\n",
       "        7368.11409651,  6985.86802595,  4604.74936946,  7617.12342909,\n",
       "        5558.40175432,  6874.2346159 ,  9711.25183629,  7156.030266  ,\n",
       "        8915.09038729,  8007.83116814,  5825.70831606,  1662.77839908,\n",
       "        7801.83975294,  6060.94450852,  5281.20082548,  8364.74005568,\n",
       "        8545.55217806,  9438.48040537,  9157.85029557,  7488.23879305,\n",
       "        8568.64127266,  6917.64197862,  6643.79507971,  6737.65669881,\n",
       "        8597.65857291,  5152.24593951,  7684.17765197,  8158.61525745,\n",
       "       10888.39395026,  8438.269324  ,  7869.98034718,  7301.07221508,\n",
       "        5643.60381669,  6355.3795713 ,  7054.24379772,  5848.08381041,\n",
       "        5148.54632497,  7976.41394267,  7170.79490789,  5888.65142638,\n",
       "        3856.11120765, 10299.15795681, 10911.40155202,  4085.89820101,\n",
       "        6686.86816569,  8310.11946507,  7138.85052883,  7813.85404673,\n",
       "        4917.63454669,  8248.75900365,  4932.83638399,  5995.94974702,\n",
       "       12114.90823657,  7409.48816945,  6282.94401946,  5790.86550214,\n",
       "        7867.50522113, 10351.57969919,  8556.81529976,  5583.42201224,\n",
       "        5406.08612532,  5168.25073224,  6705.82105655,  7595.96237804,\n",
       "        7224.76470235,  4271.26033146,  4932.43077228, 10614.99597738,\n",
       "       13144.42750979,  7100.0843427 ,  6701.87181635, 10374.96539732,\n",
       "       10079.85220283,  5293.01109599,  9321.32052265,  8309.48055571,\n",
       "        7492.04655201,  9626.56524202,  4087.47646335,  8692.37629843,\n",
       "        7816.05243832,  6985.9454902 ,  6856.33591738,  4844.13215415,\n",
       "        8070.29919681,  6199.19297831,  5442.71209813,  9186.02713233,\n",
       "        7564.91815334,  3215.41147841,  9913.44620339,  8763.31126962,\n",
       "        7629.71627507,  5707.25155613,  9227.46535608,  7447.95716268,\n",
       "        8856.70811676,  5757.49178088,  5526.79601825,  6054.04968976,\n",
       "        7433.73502358,  8851.77114174,  4829.42602395,  5475.52921398,\n",
       "        4970.65969146,  5562.83726893,  6022.07249315, 10415.96290602,\n",
       "        8138.56626005,  2027.99890425,  7062.20396321,  2697.72484691,\n",
       "        5960.90261412, 10187.74812238,  3585.77329503,  6532.14237957,\n",
       "        3528.2446814 , 11343.05224525,  7889.13022022,  5710.1280544 ,\n",
       "       10413.31131395, 10440.94006722,  8998.28326005,  6384.06985884,\n",
       "        2331.90048366,  8279.7919501 ,  8807.25624412,  4608.80593969,\n",
       "       11176.71391395,  8525.69632899,  6189.11259142,  6352.64815805,\n",
       "        7412.01164929,  5133.63108234,  6285.57004805,  7773.2658007 ,\n",
       "        6978.41088187,  4655.42021352,  7604.9289094 ,  6822.42179651,\n",
       "        7873.37298028,  6176.8173934 ,  7238.3461291 ,  7980.90829698,\n",
       "        4681.33814384,  9836.83040892,  4146.05633673,  9823.2191237 ,\n",
       "        5522.89026679,  9551.18153885,  9889.41811277,  6869.70274557,\n",
       "        8948.22395568,  5712.82386603,  7024.09655892,  6304.76790846,\n",
       "        8077.7622736 ,  4603.28512428,  8111.67071097,  9411.39329287,\n",
       "        8980.20637276,  4743.53767872,  6881.18689221,  8558.72754941,\n",
       "        4174.65564769,  6275.63781848,  6793.42907293,  8434.75804994,\n",
       "        4628.67159287,  8912.51565619,  7338.21672877,  4977.02936857,\n",
       "        6930.56868714,  4289.18014635,  6277.59960713,  3566.60123011,\n",
       "        8100.95822831,  5555.44316138, 11050.73598103,  5415.51899088,\n",
       "        8392.79132769,  8674.99404704,  8545.27905889,  8600.58716185,\n",
       "        8800.67680838,  8510.28536845,  5638.97497787,  9213.53148835,\n",
       "        7638.07724041,  6003.09121414, 11008.74441082,  7478.16375892,\n",
       "        6642.4530367 , 10627.95823915,  6432.9273427 , 10232.92994957,\n",
       "        6390.84795784,  4481.6900803 ,  9972.92578461,  5610.63417126,\n",
       "        5010.66815285,  4846.71497845,  6622.7303301 ,  7790.10681411,\n",
       "        7178.69375404,  9340.63895214,  4248.32156576, 10075.52408957,\n",
       "        6163.83399496,  7745.33833424,  5745.31118754,  9491.97676385,\n",
       "        8286.05240972,  6857.80101548,  8432.41163357, 10078.95747262,\n",
       "        6151.9511757 ,  2480.5086502 ,  6661.96747926,  9447.73922705,\n",
       "        7561.14249984,  7048.83739544,  4311.41513038,  6214.15449231,\n",
       "        6231.03788545,  9189.27756072,  6248.44694283,  9412.42476864,\n",
       "       10484.39017287,  8015.72869584,  4935.28250594,  7416.37805791,\n",
       "        7620.1003084 ,  5415.20826098,  7994.03410179,  9020.12998192,\n",
       "        8450.92118821,  8340.09286504,  5561.21240195,  5092.53638106,\n",
       "        7437.38935505,  4258.15852299,  8346.97615919,  4345.30638133,\n",
       "        9770.69777812,  9058.1970043 ,  2769.47217829,  4127.57777785,\n",
       "        6128.21195873,  5916.2632127 ,  5766.62866793,  8167.6435299 ,\n",
       "        2933.94730928,  9007.23686798,  8339.38745238,  7177.89880976,\n",
       "        2697.68419667,  6804.5079998 ,  8521.60903926,  8143.37711764,\n",
       "        5066.26798228,  6691.99057297,  8848.58493038,  6301.06435963,\n",
       "        6773.3884544 ,  6729.22409375,  4445.11825099,  4280.78436933,\n",
       "        6559.62168309,  7099.02766854,  8958.93728164,  6665.42067543,\n",
       "        9091.68536708,  8290.35526926,  9040.05564161,  8695.28329092,\n",
       "        4797.10913206,  8125.20391104,  6466.60237509,  9672.10382105,\n",
       "        7139.96893664,  7393.82464385,  4074.2984918 ,  6949.10155326,\n",
       "        6256.02161465,  3598.19967804,  4874.53278505,  6779.90582723,\n",
       "        7750.97379665,  6744.15698605,  5300.18941616,  7929.70133207,\n",
       "        9120.78418774,  7694.08625575,  7764.13617378,  6463.11796702,\n",
       "        8498.37504328,  6836.1344493 ,  6662.22529627,  6738.74995383,\n",
       "        7859.39222948,  9300.43865964,  6530.96214079,  5842.96428668,\n",
       "        7924.80355305,  8799.35556845,  6601.60507622,  6842.18315876,\n",
       "        5435.24818412,  8206.64488194, 10742.93079056,  6930.17159305,\n",
       "        5267.90700057,  8047.1294774 , 10328.88921357,  2803.51690101,\n",
       "        7426.44051673,  6032.710824  ,  7497.97896633,  6864.99013091,\n",
       "        5490.82049349,  7326.87002574,  4832.53579426,  9700.64034241,\n",
       "        8180.95628152,  4232.80335269,  7098.56802419, 10723.50298132,\n",
       "        7132.36698722,  5656.23827196,  7423.65473593,  3472.45124587,\n",
       "        6895.70893166, 10980.65231086,  8425.69344922,  4192.95163865,\n",
       "        7168.52219879,  4363.77309356,  6860.6028022 ,  3895.24902644,\n",
       "        9930.67169249,  5117.25216872,  5657.71982357,  5990.51973665,\n",
       "        5738.06738851,  6850.99000009,  8457.99217809,  7119.21911381,\n",
       "        7231.11253049,  5202.84649904,  6497.08008308,  7927.97977291,\n",
       "        8203.61075111,  9811.43115253, 10097.82356817,  7933.88455282,\n",
       "        5968.33199979,  8307.37267258,  4289.85979072,  7389.0882654 ,\n",
       "        7090.67950001,  8087.82533158,  7826.08162191, 10426.02054864,\n",
       "        5686.80408602,  7340.18499534,  8384.88193723,  9673.25516813,\n",
       "        5882.32573811,  4511.73871903,  6843.29805262,  7786.38325422,\n",
       "        5965.56702167,  5210.11112882,  8113.38806771,  7173.9525287 ,\n",
       "        3862.02052754,  7431.21165498,  3735.00892057,  8161.61217319,\n",
       "        5499.86385782,  9432.77433356,  6129.61081129,  5519.00335458,\n",
       "        2254.62513374,  8313.76153865,  2224.70645401,  4998.67572129,\n",
       "        7132.13694854,  5628.07085511, 11242.50704164,  8497.70071517,\n",
       "        2133.63394312,  8503.9386899 ,  5953.129336  ,  5179.26675653,\n",
       "        7051.23176169,  7661.5090409 ,  5609.64140105,  8722.33323418,\n",
       "        3931.85298334,  9058.33841888,  7224.12694651,  3853.16198794,\n",
       "        3042.46655171,  5962.37662091,  5905.57137054,  1385.39841874,\n",
       "        7972.42683743,  4876.79567996,  3228.23639364,  3459.79589473,\n",
       "        8286.52076188,  2659.35409249,  4635.03659295,  7279.68515357,\n",
       "        7333.16355886,  5911.65994619,  9223.43959353,  7171.11438353,\n",
       "        8053.81866641,  6066.77506588,  6783.23581273,  9069.13344888,\n",
       "       10203.24338861,  8712.22391215,  5769.7600518 ,  7233.07141304,\n",
       "        5010.63299557,  8938.69048166,  6588.95989067,  7801.24546686,\n",
       "        3242.36647312,  5993.38242923,  9393.11842656,  6683.46886385,\n",
       "        4838.42722575, 10444.18284366,  3834.49796027,  6192.02580531,\n",
       "        6344.91771207,  8810.0892313 ,  8519.27082112,  6721.18607772,\n",
       "       10300.4786682 ,  9798.8432409 ,  5489.69885904,  6999.30679899,\n",
       "        8940.15758124,  5262.27529959,  4573.84222151,  4798.15076833,\n",
       "        7124.40230248,  7011.96747773,  5683.71442962,  8848.13842443,\n",
       "        4716.15068777,  6314.27478982,  9007.77955533,  5443.48124813,\n",
       "        8898.52465414,  6622.19884252,  6165.51076564,  8338.98451511,\n",
       "        8443.45551934, 11365.63057491,  7997.11636867,  5695.67567907,\n",
       "        5646.42505454,  6166.57426197,  5005.90242689,  7646.1159853 ,\n",
       "        5449.16421276,  5289.74414337,  2372.42847033,  8588.8216947 ,\n",
       "        8306.27521632,  7838.02350226,  6521.27568073,  6612.98496465,\n",
       "        4954.67360686,  8136.67953072,  7326.62970552,  8813.00497262,\n",
       "       11191.8494943 ,  7345.17449867,  6939.07820764,  6459.38538811,\n",
       "        6919.33814084,  6896.72283421,  7120.77264751,  4754.14683566,\n",
       "        6243.62939025,  8924.22597112,  7512.10792144,  8270.36228883,\n",
       "        8900.09646158,  8353.2977443 ,  5362.81629456,  4078.27515048,\n",
       "        9831.40973229,  4623.41716813,  5523.31024568,  9164.41332695,\n",
       "        4548.0297216 ,  6903.77568374,  6054.97676977,  6734.48053205,\n",
       "        8612.36687324,  8317.27152195,  3559.40460199,  3976.9128839 ,\n",
       "       10494.56219469,  7407.42240135,  5373.99830332,  7667.37223777,\n",
       "        9719.72750799,  6841.05236811,  8474.55263489,  5640.29161875,\n",
       "       11223.23852062,  5305.37816458,  5015.89199924,  7520.82547449,\n",
       "        5936.52776439,  5766.07328536,  6424.36230221,  8939.68029457,\n",
       "        5903.05008209, 11322.8118993 ,  7659.34865946,  6157.12470973,\n",
       "        4637.87018616,  6483.58917601,  5419.65989906,  8077.37947934,\n",
       "       10094.2072994 ,  4804.30706924,  6558.19982978,  5791.13060803,\n",
       "        8179.97559862,  5196.16987687,  7829.18080295,  7491.77525041,\n",
       "        5585.66819496,  6540.55263188,  8942.11244084,  6091.22155008,\n",
       "        7383.97637558,  4618.130513  ,  4354.9178594 ,  8596.24542807,\n",
       "        8229.65616689,  6567.05554984,  2884.69364846,  9196.66373844,\n",
       "        5541.96679233,  7931.77394629,  5262.67941341,  6036.25907786,\n",
       "        6210.30394766,  9690.73307245,  6155.88154351,  4797.34258689,\n",
       "        8481.17035826,  7978.56554645,  7405.04041918,  7171.81807669,\n",
       "        5386.81668349,  7048.01173704,  7985.78811622,  3909.28150535,\n",
       "        2915.81208244,  4924.22367573,  7913.75996594,  7455.447529  ,\n",
       "        8275.38093215,  5280.62672341,  5436.7816979 ,  8517.0583028 ,\n",
       "        6477.49683485,  6814.92781625,  5289.70321506,  9755.01292156,\n",
       "        9564.75854502,  6496.4384555 ,  8688.68786502,  7093.89083719,\n",
       "        8187.5385056 ,  7096.74768917,  8244.63285856,  6310.31059976,\n",
       "        7743.58305266, 10486.13225807,  9678.98330358,  8242.97226875,\n",
       "        8231.81886914,  8851.40577071,  7404.3964065 ,  4996.90934799,\n",
       "        7121.49634805,  9318.42479785,  6512.87005358,  8786.12523746,\n",
       "        6590.68328853,  7169.33956011,  7629.63307299,  2071.41499954,\n",
       "        7447.71545737, 11109.52472416,  2611.99055624,  3770.53136315,\n",
       "        7250.35448409,  6737.67719622,  4745.20922339,  6939.75139746,\n",
       "        8030.19700944,  6744.67654897,  6902.84880084,  8533.57394915,\n",
       "        7285.85550453,  8393.88594625,  7787.33272523,  6398.85212389,\n",
       "        8753.70006607,  8576.52998313,  5071.09742163,  6266.96320872,\n",
       "        4337.94030126,  6454.60085147,  8251.31896727,  8356.66848096,\n",
       "        7316.3479283 ,  4999.0367755 ,  9523.0017413 ,  6066.04987642,\n",
       "        2881.26573192,  9337.00941375,  6506.4663817 ,  7478.56556511,\n",
       "       10969.89461337,  7622.1166931 ,  7256.68319378,  8197.15842035,\n",
       "        6691.02886376,  6286.70865925,  7663.33991978,  7799.59156034,\n",
       "        3501.50527801,  7630.8775555 ,  5013.71304554,  6765.67374326,\n",
       "        4304.29038033,  7120.91050762,  8703.96364987,  7534.76276328,\n",
       "        5169.74565672, 10016.67391445,  3517.76544575,  8038.94655241,\n",
       "        7962.1894506 ,  2071.3564338 ,  5872.14295021,  8329.66307657,\n",
       "       10653.28219118,  5561.58593144,  8158.3379255 ,  7660.97567124,\n",
       "        6871.61618612,  9273.83199788,  7862.47610655, 12412.56619402,\n",
       "        7798.51348799,  5569.20705897,  7501.31314841,  5633.38814001,\n",
       "        4144.19065899,  8825.41403812,  5628.13326943,  6779.72251014,\n",
       "        7588.47024753,  4773.8224129 ,  8095.91991385, 10597.90428999,\n",
       "        7498.83655721,  6886.82204389,  9636.32187023,  7879.90178581,\n",
       "        5759.22735613,  7935.59317902,  6288.05661131,  8319.0311863 ,\n",
       "        4763.54712768,  4640.15811816,  6649.21021958,  6991.09823237,\n",
       "        5159.69141377,  8784.93844834,  4906.19812169,  4872.70924533,\n",
       "        5823.85518704,  5170.30595237,  7864.90499121,  5111.08828671,\n",
       "        9385.77838247,  6646.46807974,  7787.51198043, 10113.96710022,\n",
       "        7850.48387885, 10419.68166008,  5676.96311061,  7286.0636824 ,\n",
       "       12547.19405823,  7181.68823152, 10885.63276647,  5677.36874524,\n",
       "        5294.6690134 ,  5450.40730472,  5767.88825395,  4483.49791551,\n",
       "       11261.36381054,  7283.06624814,  7169.50748324,  6527.89525127,\n",
       "        9428.37663276,  9169.05606672, 10437.30134136,  5355.68346705,\n",
       "        8960.19558871,  8236.3027357 ,  7041.16730678,  8107.96149972,\n",
       "        9672.35287175,  5877.01056815,  8797.30688975,  6040.88397376,\n",
       "        9493.51337292,  6454.50495794,  6901.56696852, 10260.16346114,\n",
       "        3600.33461905,  7358.86339901,  6573.11823658,  8185.04192694,\n",
       "        5736.59983674,  8553.26348368, 11193.85117357,  5449.58911962,\n",
       "        7215.31945289,  7653.03275958,  9783.56143865,  7606.06041137,\n",
       "        2677.90639349,  6346.01671137,  4548.68820735,  7872.39743771,\n",
       "       11358.13534376,  3740.771102  ,  8275.183622  ,  2845.27249852,\n",
       "        8002.81923119,  9417.58147354,  3763.15933248,  3243.73912769,\n",
       "       10575.99847234,  7040.71714643,  5223.13481949,  6269.21717574,\n",
       "        9160.48250783,  9794.10382965,  4770.01764652, 12886.76600649,\n",
       "        6163.16127642,  3426.16865193,  8329.79131063,  5221.09725419,\n",
       "        8112.38863617,  7902.54920147,  9829.218174  ,  7916.25524949,\n",
       "       10377.86215049,  6683.04276796,  7507.16835389,  8559.53181741,\n",
       "        6316.1833887 ,  7610.49601053,  7715.87849457,  6530.88783838,\n",
       "        7424.65406983,  8567.32947172,  8829.58867686,  7465.81553279,\n",
       "        3826.84950668,  8794.17034487,  5827.78185092,  6522.4209701 ,\n",
       "        6855.18739505,  7369.33913796,  7467.68628153,  6717.21576827,\n",
       "        5168.89102238,  5953.1612425 ,  6875.90086691,  8025.12524222,\n",
       "        4548.65893052, 10881.97991814,  7641.94511564,  8344.59906616,\n",
       "        6737.4610274 ,  6404.80026705,  9733.19041487,  9268.5860066 ,\n",
       "        6219.70552829,  5750.12659095,  6759.9960285 ,  2091.26845427,\n",
       "        8606.8569289 ,  7523.01381833, 10768.90701739,  7090.68702258,\n",
       "        6080.79247672,  5491.52678556,  6013.67470388,  6484.01919277,\n",
       "        7527.71634332, 10306.72157484,  9662.10463258,  8438.28852473,\n",
       "        8239.87264343, 12822.56346689,  6343.9863499 ,  6502.77527299,\n",
       "        7053.9703794 ,  4044.10537913,  8351.85979512,  6492.45862031,\n",
       "        7957.05878427,  5216.68656187,  5266.27337535,  9864.73715988,\n",
       "        5124.25504607,  4134.53399817,  7602.39530277,  7918.54203859,\n",
       "        7279.97866888,  4139.45337887,  7390.62285192,  7326.76537778,\n",
       "        7525.19516975,  6793.88048198,  7834.41580536,  6756.79672793,\n",
       "        8188.95799269,  9059.05749502,  5510.37196836,  9088.76449963,\n",
       "        5370.2675143 ,  9404.71798766,  5855.77710472,  5136.11246595,\n",
       "        7304.38266877,  7647.60639755,  7219.56582893,  9804.90310022,\n",
       "        3833.48959213,  7516.72440626,  3834.20852029,  2668.61010154,\n",
       "       10545.81295324,  6744.39548178,  6193.43852738,  6626.63065455,\n",
       "        6492.31626491,  4639.17725797,  5890.93636087,  8058.11863768,\n",
       "        7055.37782322,  6454.7770471 ,  7296.56538552,  8677.31871815,\n",
       "        8236.689698  ,  5505.11826496,  5488.53898132,  9188.74847461,\n",
       "        3112.63155009,  9339.60625818,  8651.25641258,  6534.55224353,\n",
       "        7349.34662328,  6871.87846042,  7407.46838981,  8722.38092744,\n",
       "        6517.39050142, 10453.59149504,  9279.90008572,  5748.92862085,\n",
       "        6726.57411162,  2685.95898522,  3460.0566156 ,  6758.77279086,\n",
       "        7410.03738186,  8646.81953746,  6269.4167071 ,  6790.17810237,\n",
       "        8240.12404225,  9130.5303561 , 11322.2086431 ,  7217.59741401,\n",
       "        8402.06141663,  7542.12266662,  7537.74621634,  6901.65054517,\n",
       "        6816.59681838,  9281.30371537, 13344.93870347,  7973.41056809,\n",
       "        4802.62272638,  9658.90908878,  6215.75319093, 10045.62513881,\n",
       "       12467.73963656,  7171.09243069,  3967.00625354,  6733.02491012,\n",
       "        4307.69509603,  7961.26207071,  5122.5306835 ,  8821.53832335,\n",
       "        6411.75831692, 10520.35460842,  6506.55399995,  9797.42440591])"
      ]
     },
     "execution_count": 2,
     "metadata": {},
     "output_type": "execute_result"
    }
   ],
   "source": [
    "#random ile bir veri seti oluşturuyoruz\n",
    "#aylık geliri 7000 olan standart sapması 2000 olan 1000 kişilik bir veri grubu oluşturuyoruz\n",
    "\n",
    "gelirler = np.random.normal(7000,2000,1000)\n",
    "gelirler"
   ]
  },
  {
   "cell_type": "markdown",
   "id": "227333f9",
   "metadata": {},
   "source": [
    "### Mean"
   ]
  },
  {
   "cell_type": "code",
   "execution_count": 3,
   "id": "32ee04ff",
   "metadata": {},
   "outputs": [
    {
     "data": {
      "text/plain": [
       "7072.165158128408"
      ]
     },
     "execution_count": 3,
     "metadata": {},
     "output_type": "execute_result"
    }
   ],
   "source": [
    "#ortalamayı np kütüphanesinde mean() fonks. ile buluruz\n",
    "np.mean(gelirler)"
   ]
  },
  {
   "cell_type": "code",
   "execution_count": 4,
   "id": "8992fa8a",
   "metadata": {},
   "outputs": [],
   "source": [
    "#çizdirme işlemi için matplotlib kütüphanesini dahil ediyorum\n",
    "import matplotlib.pyplot as plt"
   ]
  },
  {
   "cell_type": "code",
   "execution_count": 5,
   "id": "2274aeb1",
   "metadata": {},
   "outputs": [
    {
     "data": {
      "text/plain": [
       "<function matplotlib.pyplot.show(close=None, block=None)>"
      ]
     },
     "execution_count": 5,
     "metadata": {},
     "output_type": "execute_result"
    },
    {
     "data": {
      "image/png": "[encoded data removed]",
      "text/plain": [
       "<Figure size 640x480 with 1 Axes>"
      ]
     },
     "metadata": {},
     "output_type": "display_data"
    }
   ],
   "source": [
    "#histogram grafiği\n",
    "plt.hist(gelirler,100)\n",
    "plt.show"
   ]
  },
  {
   "cell_type": "markdown",
   "id": "4d973a37",
   "metadata": {},
   "source": [
    "### Median"
   ]
  },
  {
   "cell_type": "code",
   "execution_count": 6,
   "id": "1e22a561",
   "metadata": {},
   "outputs": [
    {
     "data": {
      "text/plain": [
       "7108.707132300686"
      ]
     },
     "execution_count": 6,
     "metadata": {},
     "output_type": "execute_result"
    }
   ],
   "source": [
    "#median buluyoruz\n",
    "np.median(gelirler)"
   ]
  },
  {
   "cell_type": "code",
   "execution_count": 7,
   "id": "f90726c2",
   "metadata": {},
   "outputs": [
    {
     "data": {
      "text/plain": [
       "106965.19995817025"
      ]
     },
     "execution_count": 7,
     "metadata": {},
     "output_type": "execute_result"
    }
   ],
   "source": [
    "#veri setimize genel ortalamaya göre alakasız uç bir veri girildiğinde;\n",
    "gelirler = np.append(gelirler,[100000000])\n",
    "\n",
    "#ortalama değerinde ütopik bir değişim yaşanır\n",
    "np.mean(gelirler)"
   ]
  },
  {
   "cell_type": "markdown",
   "id": "8b21aef8",
   "metadata": {},
   "source": [
    "## Mean ile Median arasında uçurum varsa, veri setinde uçuk, uç değerler olduğunu öngörebilirsiniz"
   ]
  },
  {
   "cell_type": "markdown",
   "id": "a1b51667",
   "metadata": {},
   "source": [
    "### Mode"
   ]
  },
  {
   "cell_type": "code",
   "execution_count": 11,
   "id": "d9f65a53",
   "metadata": {},
   "outputs": [
    {
     "data": {
      "text/plain": [
       "ModeResult(mode=array([13]), count=array([33]))"
      ]
     },
     "execution_count": 11,
     "metadata": {},
     "output_type": "execute_result"
    }
   ],
   "source": [
    "#mode gösterimi için yeni bir veri seti oluşturuyoruz\n",
    "# 300 öğrencilik okuldaki yaşlar 7 ile 18 arasında olsun;\n",
    "yaslar = np.random.randint(7,18,size=300)\n",
    "\n",
    "#mode almak için stats kütüphanesini kullanıyoruz\n",
    "from scipy import stats\n",
    "stats.mode(yaslar, keepdims = True)\n",
    "#Bu düzeltme, keepdims=True kullanarak gelecekteki sürümlerdeki varsayılan davranış değişikliklerine karşı koruma sağlar."
   ]
  },
  {
   "cell_type": "code",
   "execution_count": 12,
   "id": "ccc4df61",
   "metadata": {},
   "outputs": [
    {
     "data": {
      "text/plain": [
       "array([14, 17, 16, 15, 12, 12, 14, 13,  9,  9,  9,  7, 12, 15,  8, 15, 14,\n",
       "       12, 16,  8, 10,  9, 14,  8,  8, 17, 14, 15, 16, 17, 15, 15, 14, 14,\n",
       "        9, 12,  8, 10, 10, 12, 13, 11, 15, 11, 17, 13, 10, 17, 16, 13,  7,\n",
       "       14, 15,  7, 13, 12,  9,  7, 13, 15, 17, 14,  7,  9,  9, 17, 15, 11,\n",
       "       17,  9, 13, 15, 13, 13, 13, 15, 17, 17, 13,  7,  8, 15, 15, 17, 13,\n",
       "        7, 14, 15,  9, 14, 10, 10, 15, 17,  7,  8,  8, 14, 16,  8, 10, 13,\n",
       "       13,  7, 15, 11, 12, 12, 15, 11, 17, 16, 10, 15, 13, 16, 13,  8, 14,\n",
       "       11, 14, 10, 12, 12, 14, 10,  7, 16, 14, 17, 13, 13, 17, 10, 10, 11,\n",
       "        8, 17,  9,  8, 11, 17, 15,  8, 17, 14, 15,  7,  9, 15, 14, 17,  7,\n",
       "       16,  7, 15, 11, 16,  8,  8, 16, 16, 13, 16,  7, 14,  9,  7,  7, 17,\n",
       "       10, 15, 12, 15, 15,  7, 14, 10, 17, 17, 14, 15,  8, 12,  9, 15, 10,\n",
       "       12, 16,  9, 16, 13,  7, 11,  8, 12, 14, 12, 10, 17, 17, 17, 14, 10,\n",
       "       16, 16, 14,  9,  7, 15, 17, 11,  8,  8, 10, 14, 15, 10,  9,  8,  9,\n",
       "       11, 16,  9, 17, 14, 14, 11, 13, 11,  8, 12,  7,  9,  8,  9, 10, 12,\n",
       "        8, 13, 11, 17, 14,  8, 13, 11, 16,  7,  7, 16, 16,  7, 13, 11, 10,\n",
       "       13, 12,  8,  9, 13, 11, 11, 12, 16, 16, 11, 13, 11, 14, 13, 11,  7,\n",
       "       10, 12, 14, 15,  8, 13,  8,  8, 17, 15, 11, 13, 11, 10, 14, 17, 14,\n",
       "       13, 10, 13, 16,  8, 12,  7, 12, 11, 13, 11])"
      ]
     },
     "execution_count": 12,
     "metadata": {},
     "output_type": "execute_result"
    }
   ],
   "source": [
    "yaslar"
   ]
  },
  {
   "cell_type": "code",
   "execution_count": 13,
   "id": "aed65bd2",
   "metadata": {},
   "outputs": [
    {
     "data": {
      "text/plain": [
       "12.193333333333333"
      ]
     },
     "execution_count": 13,
     "metadata": {},
     "output_type": "execute_result"
    }
   ],
   "source": [
    "np.mean(yaslar)"
   ]
  },
  {
   "cell_type": "code",
   "execution_count": 14,
   "id": "7b97f7f2",
   "metadata": {},
   "outputs": [
    {
     "data": {
      "text/plain": [
       "13.0"
      ]
     },
     "execution_count": 14,
     "metadata": {},
     "output_type": "execute_result"
    }
   ],
   "source": [
    "np.median(yaslar)"
   ]
  }
 ],
 "metadata": {
  "kernelspec": {
   "display_name": "Python 3 (ipykernel)",
   "language": "python",
   "name": "python3"
  },
  "language_info": {
   "codemirror_mode": {
    "name": "ipython",
    "version": 3
   },
   "file_extension": ".py",
   "mimetype": "text/x-python",
   "name": "python",
   "nbconvert_exporter": "python",
   "pygments_lexer": "ipython3",
   "version": "3.11.4"
  }
 },
 "nbformat": 4,
 "nbformat_minor": 5
}
