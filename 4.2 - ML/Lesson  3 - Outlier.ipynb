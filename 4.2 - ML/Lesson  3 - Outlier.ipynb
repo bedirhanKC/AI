{
 "cells": [
  {
   "cell_type": "markdown",
   "id": "14e80ad0",
   "metadata": {},
   "source": [
    "## Outlier (aykırı değer) : bir veri seti içerisindeki diğer gözlemlerden aykırı ve sapan gözlem veya veri değeridir"
   ]
  },
  {
   "cell_type": "markdown",
   "id": "024b2554",
   "metadata": {},
   "source": [
    "### Outlier nedenleri ?\n",
    "#### [] insan kaynaklı hatalar (hatalı veri girişi)\n",
    "#### [] cihazlardan kaynaklanan hatalar (ölçüm cihazlarının nadiren de olsa yanlış değer ölçmesi)"
   ]
  },
  {
   "cell_type": "markdown",
   "id": "ec725204",
   "metadata": {},
   "source": [
    "#"
   ]
  },
  {
   "cell_type": "markdown",
   "id": "3975b0ef",
   "metadata": {},
   "source": [
    "### Outlier değeri nasıl bulunur ?\n",
    "\n",
    "#### alt limit ile üst limit bulunur. Bu iki limit arasında olmayan değerler outlierdır\n",
    "#### Alt limit = Q1 - 1.5 * IQR\n",
    "#### Üst limit = Q3 + 1.5 * IQR\n",
    "\n",
    "\n",
    "#### IQR = Q3 - Q1\n",
    "\n",
    "\n",
    "#### Q1  = percentile % 25 (veri setinin ilk çeyreğinin son elemanı yani veri setinin başlangıcından median(ortanca) değere kadarki kısmın median'ı.)\n",
    "#### Q2 = percentile % 50 (sıralı veri setinin ortası, 2. çeyreğin son elemanı)\n",
    "#### Q3 = percentile % 75 (veri setinin 3. çeyreğinin son elemanı, 4. çeyreğin ilk elemanı  yani verisetinin median'ından son değeri kadarki kısmın median'ı)\n"
   ]
  },
  {
   "cell_type": "markdown",
   "id": "769bf78a",
   "metadata": {},
   "source": [
    "#\n",
    "\n"
   ]
  },
  {
   "cell_type": "code",
   "execution_count": 1,
   "id": "895df935",
   "metadata": {},
   "outputs": [],
   "source": [
    "import pandas as pd"
   ]
  },
  {
   "cell_type": "code",
   "execution_count": 2,
   "id": "469c2306",
   "metadata": {},
   "outputs": [
    {
     "data": {
      "text/html": [
       "<div>\n",
       "<style scoped>\n",
       "    .dataframe tbody tr th:only-of-type {\n",
       "        vertical-align: middle;\n",
       "    }\n",
       "\n",
       "    .dataframe tbody tr th {\n",
       "        vertical-align: top;\n",
       "    }\n",
       "\n",
       "    .dataframe thead th {\n",
       "        text-align: right;\n",
       "    }\n",
       "</style>\n",
       "<table border=\"1\" class=\"dataframe\">\n",
       "  <thead>\n",
       "    <tr style=\"text-align: right;\">\n",
       "      <th></th>\n",
       "      <th>isim</th>\n",
       "      <th>boy</th>\n",
       "    </tr>\n",
       "  </thead>\n",
       "  <tbody>\n",
       "    <tr>\n",
       "      <th>0</th>\n",
       "      <td>can</td>\n",
       "      <td>88</td>\n",
       "    </tr>\n",
       "    <tr>\n",
       "      <th>1</th>\n",
       "      <td>ali</td>\n",
       "      <td>132</td>\n",
       "    </tr>\n",
       "    <tr>\n",
       "      <th>2</th>\n",
       "      <td>tugce</td>\n",
       "      <td>134</td>\n",
       "    </tr>\n",
       "    <tr>\n",
       "      <th>3</th>\n",
       "      <td>ayse</td>\n",
       "      <td>137</td>\n",
       "    </tr>\n",
       "    <tr>\n",
       "      <th>4</th>\n",
       "      <td>nihan</td>\n",
       "      <td>139</td>\n",
       "    </tr>\n",
       "    <tr>\n",
       "      <th>5</th>\n",
       "      <td>sahin</td>\n",
       "      <td>142</td>\n",
       "    </tr>\n",
       "    <tr>\n",
       "      <th>6</th>\n",
       "      <td>kaan</td>\n",
       "      <td>142</td>\n",
       "    </tr>\n",
       "    <tr>\n",
       "      <th>7</th>\n",
       "      <td>emre</td>\n",
       "      <td>144</td>\n",
       "    </tr>\n",
       "    <tr>\n",
       "      <th>8</th>\n",
       "      <td>bartu</td>\n",
       "      <td>147</td>\n",
       "    </tr>\n",
       "    <tr>\n",
       "      <th>9</th>\n",
       "      <td>ismail</td>\n",
       "      <td>148</td>\n",
       "    </tr>\n",
       "    <tr>\n",
       "      <th>10</th>\n",
       "      <td>gokalp</td>\n",
       "      <td>149</td>\n",
       "    </tr>\n",
       "    <tr>\n",
       "      <th>11</th>\n",
       "      <td>osman</td>\n",
       "      <td>149</td>\n",
       "    </tr>\n",
       "    <tr>\n",
       "      <th>12</th>\n",
       "      <td>filiz</td>\n",
       "      <td>150</td>\n",
       "    </tr>\n",
       "    <tr>\n",
       "      <th>13</th>\n",
       "      <td>veli</td>\n",
       "      <td>207</td>\n",
       "    </tr>\n",
       "    <tr>\n",
       "      <th>14</th>\n",
       "      <td>ilker</td>\n",
       "      <td>234</td>\n",
       "    </tr>\n",
       "  </tbody>\n",
       "</table>\n",
       "</div>"
      ],
      "text/plain": [
       "      isim  boy\n",
       "0      can   88\n",
       "1      ali  132\n",
       "2    tugce  134\n",
       "3     ayse  137\n",
       "4    nihan  139\n",
       "5    sahin  142\n",
       "6     kaan  142\n",
       "7     emre  144\n",
       "8    bartu  147\n",
       "9   ismail  148\n",
       "10  gokalp  149\n",
       "11   osman  149\n",
       "12   filiz  150\n",
       "13    veli  207\n",
       "14   ilker  234"
      ]
     },
     "execution_count": 2,
     "metadata": {},
     "output_type": "execute_result"
    }
   ],
   "source": [
    "#verisetimizi alıyoruz\n",
    "df = pd.read_csv(\"outlierOrnekVeriseti.csv\", sep=\";\")\n",
    "df"
   ]
  },
  {
   "cell_type": "code",
   "execution_count": 3,
   "id": "083c698c",
   "metadata": {},
   "outputs": [
    {
     "data": {
      "text/html": [
       "<div>\n",
       "<style scoped>\n",
       "    .dataframe tbody tr th:only-of-type {\n",
       "        vertical-align: middle;\n",
       "    }\n",
       "\n",
       "    .dataframe tbody tr th {\n",
       "        vertical-align: top;\n",
       "    }\n",
       "\n",
       "    .dataframe thead th {\n",
       "        text-align: right;\n",
       "    }\n",
       "</style>\n",
       "<table border=\"1\" class=\"dataframe\">\n",
       "  <thead>\n",
       "    <tr style=\"text-align: right;\">\n",
       "      <th></th>\n",
       "      <th>boy</th>\n",
       "    </tr>\n",
       "  </thead>\n",
       "  <tbody>\n",
       "    <tr>\n",
       "      <th>count</th>\n",
       "      <td>15.000000</td>\n",
       "    </tr>\n",
       "    <tr>\n",
       "      <th>mean</th>\n",
       "      <td>149.466667</td>\n",
       "    </tr>\n",
       "    <tr>\n",
       "      <th>std</th>\n",
       "      <td>32.943386</td>\n",
       "    </tr>\n",
       "    <tr>\n",
       "      <th>min</th>\n",
       "      <td>88.000000</td>\n",
       "    </tr>\n",
       "    <tr>\n",
       "      <th>25%</th>\n",
       "      <td>138.000000</td>\n",
       "    </tr>\n",
       "    <tr>\n",
       "      <th>50%</th>\n",
       "      <td>144.000000</td>\n",
       "    </tr>\n",
       "    <tr>\n",
       "      <th>75%</th>\n",
       "      <td>149.000000</td>\n",
       "    </tr>\n",
       "    <tr>\n",
       "      <th>max</th>\n",
       "      <td>234.000000</td>\n",
       "    </tr>\n",
       "  </tbody>\n",
       "</table>\n",
       "</div>"
      ],
      "text/plain": [
       "              boy\n",
       "count   15.000000\n",
       "mean   149.466667\n",
       "std     32.943386\n",
       "min     88.000000\n",
       "25%    138.000000\n",
       "50%    144.000000\n",
       "75%    149.000000\n",
       "max    234.000000"
      ]
     },
     "execution_count": 3,
     "metadata": {},
     "output_type": "execute_result"
    }
   ],
   "source": [
    "#ortalama verileri bu şekilde alabiliriz\n",
    "df.describe()"
   ]
  },
  {
   "cell_type": "markdown",
   "id": "c7544449",
   "metadata": {},
   "source": [
    "### Q1 (%25 percentile)"
   ]
  },
  {
   "cell_type": "code",
   "execution_count": 4,
   "id": "ec39922c",
   "metadata": {},
   "outputs": [
    {
     "data": {
      "text/plain": [
       "138.0"
      ]
     },
     "execution_count": 4,
     "metadata": {},
     "output_type": "execute_result"
    }
   ],
   "source": [
    "Q1 = df.boy.quantile(0.25)\n",
    "Q1"
   ]
  },
  {
   "cell_type": "markdown",
   "id": "714fb169",
   "metadata": {},
   "source": [
    "### Q3 (%75 percentile)"
   ]
  },
  {
   "cell_type": "code",
   "execution_count": 5,
   "id": "c04508fc",
   "metadata": {},
   "outputs": [
    {
     "data": {
      "text/plain": [
       "149.0"
      ]
     },
     "execution_count": 5,
     "metadata": {},
     "output_type": "execute_result"
    }
   ],
   "source": [
    "Q3 = df.boy.quantile(0.75)\n",
    "Q3"
   ]
  },
  {
   "cell_type": "markdown",
   "id": "62240e49",
   "metadata": {},
   "source": [
    "### IQR"
   ]
  },
  {
   "cell_type": "code",
   "execution_count": 6,
   "id": "f46651d6",
   "metadata": {},
   "outputs": [
    {
     "data": {
      "text/plain": [
       "11.0"
      ]
     },
     "execution_count": 6,
     "metadata": {},
     "output_type": "execute_result"
    }
   ],
   "source": [
    "IQR = Q3 - Q1\n",
    "IQR"
   ]
  },
  {
   "cell_type": "markdown",
   "id": "ddc81ad5",
   "metadata": {},
   "source": [
    "### Alt Limit"
   ]
  },
  {
   "cell_type": "code",
   "execution_count": 7,
   "id": "25625e7c",
   "metadata": {},
   "outputs": [
    {
     "data": {
      "text/plain": [
       "121.5"
      ]
     },
     "execution_count": 7,
     "metadata": {},
     "output_type": "execute_result"
    }
   ],
   "source": [
    "altLimit = Q1 - 1.5 * IQR\n",
    "altLimit"
   ]
  },
  {
   "cell_type": "markdown",
   "id": "f587bac8",
   "metadata": {},
   "source": [
    "### Üst Limit"
   ]
  },
  {
   "cell_type": "code",
   "execution_count": 8,
   "id": "a096b817",
   "metadata": {},
   "outputs": [
    {
     "data": {
      "text/plain": [
       "165.5"
      ]
     },
     "execution_count": 8,
     "metadata": {},
     "output_type": "execute_result"
    }
   ],
   "source": [
    "ustLimit = Q3 + 1.5 * IQR\n",
    "ustLimit"
   ]
  },
  {
   "cell_type": "markdown",
   "id": "a93cba2c",
   "metadata": {},
   "source": [
    "#### Median"
   ]
  },
  {
   "cell_type": "code",
   "execution_count": 9,
   "id": "f09f676e",
   "metadata": {},
   "outputs": [
    {
     "data": {
      "text/plain": [
       "144.0"
      ]
     },
     "execution_count": 9,
     "metadata": {},
     "output_type": "execute_result"
    }
   ],
   "source": [
    "median = df.boy.quantile(0.50)\n",
    "median"
   ]
  },
  {
   "cell_type": "markdown",
   "id": "14809957",
   "metadata": {},
   "source": [
    "## Outlier (aykırı) değerleri filtreleme"
   ]
  },
  {
   "cell_type": "code",
   "execution_count": 10,
   "id": "99c70579",
   "metadata": {},
   "outputs": [
    {
     "data": {
      "text/html": [
       "<div>\n",
       "<style scoped>\n",
       "    .dataframe tbody tr th:only-of-type {\n",
       "        vertical-align: middle;\n",
       "    }\n",
       "\n",
       "    .dataframe tbody tr th {\n",
       "        vertical-align: top;\n",
       "    }\n",
       "\n",
       "    .dataframe thead th {\n",
       "        text-align: right;\n",
       "    }\n",
       "</style>\n",
       "<table border=\"1\" class=\"dataframe\">\n",
       "  <thead>\n",
       "    <tr style=\"text-align: right;\">\n",
       "      <th></th>\n",
       "      <th>isim</th>\n",
       "      <th>boy</th>\n",
       "    </tr>\n",
       "  </thead>\n",
       "  <tbody>\n",
       "    <tr>\n",
       "      <th>0</th>\n",
       "      <td>can</td>\n",
       "      <td>88</td>\n",
       "    </tr>\n",
       "    <tr>\n",
       "      <th>13</th>\n",
       "      <td>veli</td>\n",
       "      <td>207</td>\n",
       "    </tr>\n",
       "    <tr>\n",
       "      <th>14</th>\n",
       "      <td>ilker</td>\n",
       "      <td>234</td>\n",
       "    </tr>\n",
       "  </tbody>\n",
       "</table>\n",
       "</div>"
      ],
      "text/plain": [
       "     isim  boy\n",
       "0     can   88\n",
       "13   veli  207\n",
       "14  ilker  234"
      ]
     },
     "execution_count": 10,
     "metadata": {},
     "output_type": "execute_result"
    }
   ],
   "source": [
    "dfOutliers = df[(df.boy < altLimit) | (df.boy > ustLimit)]\n",
    "dfOutliers"
   ]
  },
  {
   "cell_type": "markdown",
   "id": "ce8b4444",
   "metadata": {},
   "source": [
    "## Outlier değerleri dataset'den çıkarma"
   ]
  },
  {
   "cell_type": "code",
   "execution_count": 11,
   "id": "ed421cfc",
   "metadata": {},
   "outputs": [
    {
     "data": {
      "text/html": [
       "<div>\n",
       "<style scoped>\n",
       "    .dataframe tbody tr th:only-of-type {\n",
       "        vertical-align: middle;\n",
       "    }\n",
       "\n",
       "    .dataframe tbody tr th {\n",
       "        vertical-align: top;\n",
       "    }\n",
       "\n",
       "    .dataframe thead th {\n",
       "        text-align: right;\n",
       "    }\n",
       "</style>\n",
       "<table border=\"1\" class=\"dataframe\">\n",
       "  <thead>\n",
       "    <tr style=\"text-align: right;\">\n",
       "      <th></th>\n",
       "      <th>isim</th>\n",
       "      <th>boy</th>\n",
       "    </tr>\n",
       "  </thead>\n",
       "  <tbody>\n",
       "    <tr>\n",
       "      <th>1</th>\n",
       "      <td>ali</td>\n",
       "      <td>132</td>\n",
       "    </tr>\n",
       "    <tr>\n",
       "      <th>2</th>\n",
       "      <td>tugce</td>\n",
       "      <td>134</td>\n",
       "    </tr>\n",
       "    <tr>\n",
       "      <th>3</th>\n",
       "      <td>ayse</td>\n",
       "      <td>137</td>\n",
       "    </tr>\n",
       "    <tr>\n",
       "      <th>4</th>\n",
       "      <td>nihan</td>\n",
       "      <td>139</td>\n",
       "    </tr>\n",
       "    <tr>\n",
       "      <th>5</th>\n",
       "      <td>sahin</td>\n",
       "      <td>142</td>\n",
       "    </tr>\n",
       "    <tr>\n",
       "      <th>6</th>\n",
       "      <td>kaan</td>\n",
       "      <td>142</td>\n",
       "    </tr>\n",
       "    <tr>\n",
       "      <th>7</th>\n",
       "      <td>emre</td>\n",
       "      <td>144</td>\n",
       "    </tr>\n",
       "    <tr>\n",
       "      <th>8</th>\n",
       "      <td>bartu</td>\n",
       "      <td>147</td>\n",
       "    </tr>\n",
       "    <tr>\n",
       "      <th>9</th>\n",
       "      <td>ismail</td>\n",
       "      <td>148</td>\n",
       "    </tr>\n",
       "    <tr>\n",
       "      <th>10</th>\n",
       "      <td>gokalp</td>\n",
       "      <td>149</td>\n",
       "    </tr>\n",
       "    <tr>\n",
       "      <th>11</th>\n",
       "      <td>osman</td>\n",
       "      <td>149</td>\n",
       "    </tr>\n",
       "    <tr>\n",
       "      <th>12</th>\n",
       "      <td>filiz</td>\n",
       "      <td>150</td>\n",
       "    </tr>\n",
       "  </tbody>\n",
       "</table>\n",
       "</div>"
      ],
      "text/plain": [
       "      isim  boy\n",
       "1      ali  132\n",
       "2    tugce  134\n",
       "3     ayse  137\n",
       "4    nihan  139\n",
       "5    sahin  142\n",
       "6     kaan  142\n",
       "7     emre  144\n",
       "8    bartu  147\n",
       "9   ismail  148\n",
       "10  gokalp  149\n",
       "11   osman  149\n",
       "12   filiz  150"
      ]
     },
     "execution_count": 11,
     "metadata": {},
     "output_type": "execute_result"
    }
   ],
   "source": [
    "dfFiltrelenmiş = df[(df.boy > altLimit) & (df.boy < ustLimit)]\n",
    "dfFiltrelenmiş"
   ]
  }
 ],
 "metadata": {
  "kernelspec": {
   "display_name": "Python 3 (ipykernel)",
   "language": "python",
   "name": "python3"
  },
  "language_info": {
   "codemirror_mode": {
    "name": "ipython",
    "version": 3
   },
   "file_extension": ".py",
   "mimetype": "text/x-python",
   "name": "python",
   "nbconvert_exporter": "python",
   "pygments_lexer": "ipython3",
   "version": "3.11.4"
  }
 },
 "nbformat": 4,
 "nbformat_minor": 5
}
