{
 "cells": [
  {
   "cell_type": "markdown",
   "id": "3c034d0e",
   "metadata": {},
   "source": [
    "### Çıktı kategorik ise sınıflandırma (classification)\n",
    "## Çıktı nümerik ise Regresyon (Regression) denir"
   ]
  },
  {
   "cell_type": "markdown",
   "id": "54f0541c",
   "metadata": {},
   "source": [
    "#### Kümeleme (clustering) ise benzer gözlemleri aynı kümelere atama işlemidir."
   ]
  },
  {
   "cell_type": "markdown",
   "id": "8c79c810",
   "metadata": {},
   "source": [
    "#"
   ]
  },
  {
   "cell_type": "markdown",
   "id": "2018979c",
   "metadata": {},
   "source": [
    "# Lineer Regression"
   ]
  },
  {
   "cell_type": "markdown",
   "id": "14159190",
   "metadata": {},
   "source": [
    "### Tek değerli olarak yapılan regresyon, lineer regression analizidir."
   ]
  },
  {
   "cell_type": "markdown",
   "id": "57bfcf07",
   "metadata": {},
   "source": [
    "#### y = ax + b (lineer regression bu denklemdeki a ve b'yi bulmamızı sağlar)\n",
    "##### b = sabit değer (bias)\n",
    "##### a = eğim"
   ]
  },
  {
   "cell_type": "markdown",
   "id": "ff273eae",
   "metadata": {},
   "source": [
    "#"
   ]
  },
  {
   "cell_type": "code",
   "execution_count": 1,
   "id": "3d94d14f",
   "metadata": {},
   "outputs": [],
   "source": [
    "import pandas as pd\n",
    "import matplotlib.pyplot as plt\n",
    "from sklearn import linear_model"
   ]
  },
  {
   "cell_type": "code",
   "execution_count": 2,
   "id": "4d0e3041",
   "metadata": {},
   "outputs": [
    {
     "data": {
      "text/html": [
       "<div>\n",
       "<style scoped>\n",
       "    .dataframe tbody tr th:only-of-type {\n",
       "        vertical-align: middle;\n",
       "    }\n",
       "\n",
       "    .dataframe tbody tr th {\n",
       "        vertical-align: top;\n",
       "    }\n",
       "\n",
       "    .dataframe thead th {\n",
       "        text-align: right;\n",
       "    }\n",
       "</style>\n",
       "<table border=\"1\" class=\"dataframe\">\n",
       "  <thead>\n",
       "    <tr style=\"text-align: right;\">\n",
       "      <th></th>\n",
       "      <th>alan</th>\n",
       "      <th>fiyat</th>\n",
       "    </tr>\n",
       "  </thead>\n",
       "  <tbody>\n",
       "    <tr>\n",
       "      <th>0</th>\n",
       "      <td>180</td>\n",
       "      <td>500000</td>\n",
       "    </tr>\n",
       "    <tr>\n",
       "      <th>1</th>\n",
       "      <td>225</td>\n",
       "      <td>525000</td>\n",
       "    </tr>\n",
       "    <tr>\n",
       "      <th>2</th>\n",
       "      <td>260</td>\n",
       "      <td>550000</td>\n",
       "    </tr>\n",
       "    <tr>\n",
       "      <th>3</th>\n",
       "      <td>300</td>\n",
       "      <td>565000</td>\n",
       "    </tr>\n",
       "    <tr>\n",
       "      <th>4</th>\n",
       "      <td>320</td>\n",
       "      <td>610000</td>\n",
       "    </tr>\n",
       "    <tr>\n",
       "      <th>5</th>\n",
       "      <td>335</td>\n",
       "      <td>625000</td>\n",
       "    </tr>\n",
       "    <tr>\n",
       "      <th>6</th>\n",
       "      <td>345</td>\n",
       "      <td>632000</td>\n",
       "    </tr>\n",
       "    <tr>\n",
       "      <th>7</th>\n",
       "      <td>355</td>\n",
       "      <td>680000</td>\n",
       "    </tr>\n",
       "    <tr>\n",
       "      <th>8</th>\n",
       "      <td>400</td>\n",
       "      <td>725000</td>\n",
       "    </tr>\n",
       "  </tbody>\n",
       "</table>\n",
       "</div>"
      ],
      "text/plain": [
       "   alan   fiyat\n",
       "0   180  500000\n",
       "1   225  525000\n",
       "2   260  550000\n",
       "3   300  565000\n",
       "4   320  610000\n",
       "5   335  625000\n",
       "6   345  632000\n",
       "7   355  680000\n",
       "8   400  725000"
      ]
     },
     "execution_count": 2,
     "metadata": {},
     "output_type": "execute_result"
    }
   ],
   "source": [
    "#verisetimizi alıyoruz\n",
    "df = pd.read_csv(\"linearRegressionOrnekVeriseti.csv\",sep = \";\")\n",
    "df"
   ]
  },
  {
   "cell_type": "code",
   "execution_count": 3,
   "id": "a1611618",
   "metadata": {},
   "outputs": [
    {
     "data": {
      "text/plain": [
       "<matplotlib.collections.PathCollection at 0x1e738b64b10>"
      ]
     },
     "execution_count": 3,
     "metadata": {},
     "output_type": "execute_result"
    },
    {
     "data": {
      "image/png": "[encoded data removed]",
      "text/plain": [
       "<Figure size 640x480 with 1 Axes>"
      ]
     },
     "metadata": {},
     "output_type": "display_data"
    }
   ],
   "source": [
    "plt.xlabel('Alan')\n",
    "plt.ylabel('Fiyat')\n",
    "#scatter plot çiziyoruz\n",
    "plt.scatter(df.alan , df.fiyat , color=\"red\" , marker = \"+\")"
   ]
  },
  {
   "cell_type": "markdown",
   "id": "b24001d9",
   "metadata": {},
   "source": [
    "# Linear Regression Model"
   ]
  },
  {
   "cell_type": "code",
   "execution_count": 4,
   "id": "24fd6a1b",
   "metadata": {},
   "outputs": [
    {
     "name": "stderr",
     "output_type": "stream",
     "text": [
      "E:\\Development\\Anaconda3\\Lib\\site-packages\\sklearn\\base.py:464: UserWarning: X does not have valid feature names, but LinearRegression was fitted with feature names\n",
      "  warnings.warn(\n"
     ]
    },
    {
     "data": {
      "text/plain": [
       "array([573571.88498403])"
      ]
     },
     "execution_count": 4,
     "metadata": {},
     "output_type": "execute_result"
    }
   ],
   "source": [
    "reg = linear_model.LinearRegression()\n",
    "# bu şekilde lineer regresyon modelimi oluşturuyor ve değişkenime atıyorum\n",
    "\n",
    "reg.fit(df[['alan']] , df['fiyat'])\n",
    "# çift köşeli parantez ile dataframe yollarız parametre olarak\n",
    "\n",
    "reg.predict([[275]])\n",
    "#x parametresini vererek (alan) tahmin yapmasını istiyoruz"
   ]
  },
  {
   "cell_type": "code",
   "execution_count": 5,
   "id": "3dcbefdf",
   "metadata": {},
   "outputs": [
    {
     "data": {
      "text/plain": [
       "pandas.core.frame.DataFrame"
      ]
     },
     "execution_count": 5,
     "metadata": {},
     "output_type": "execute_result"
    }
   ],
   "source": [
    "#data frame olan parametrenin tipine bakıyoruz\n",
    "type(df[['alan']])"
   ]
  },
  {
   "cell_type": "markdown",
   "id": "bfc7ebf5",
   "metadata": {},
   "source": [
    "## ax + b formülündeki a ve b değerlerini bulma"
   ]
  },
  {
   "cell_type": "markdown",
   "id": "b365f99f",
   "metadata": {},
   "source": [
    "### a"
   ]
  },
  {
   "cell_type": "code",
   "execution_count": 6,
   "id": "747a4f3e",
   "metadata": {},
   "outputs": [
    {
     "data": {
      "text/plain": [
       "array([1019.80830671])"
      ]
     },
     "execution_count": 6,
     "metadata": {},
     "output_type": "execute_result"
    }
   ],
   "source": [
    "a = reg.coef_\n",
    "a"
   ]
  },
  {
   "cell_type": "markdown",
   "id": "681fcd46",
   "metadata": {},
   "source": [
    "### b"
   ]
  },
  {
   "cell_type": "code",
   "execution_count": 7,
   "id": "fd51dc45",
   "metadata": {},
   "outputs": [
    {
     "data": {
      "text/plain": [
       "293124.6006389778"
      ]
     },
     "execution_count": 7,
     "metadata": {},
     "output_type": "execute_result"
    }
   ],
   "source": [
    "b = reg.intercept_\n",
    "b"
   ]
  },
  {
   "cell_type": "markdown",
   "id": "03e3a698",
   "metadata": {},
   "source": [
    "### y = ax + b"
   ]
  },
  {
   "cell_type": "code",
   "execution_count": 8,
   "id": "d8379f20",
   "metadata": {},
   "outputs": [
    {
     "data": {
      "text/plain": [
       "array([573571.88498403])"
      ]
     },
     "execution_count": 8,
     "metadata": {},
     "output_type": "execute_result"
    }
   ],
   "source": [
    "x = 275\n",
    "y = a*x + b\n",
    "y"
   ]
  },
  {
   "cell_type": "markdown",
   "id": "47da309a",
   "metadata": {},
   "source": [
    "## Linear Regression Line Plot"
   ]
  },
  {
   "cell_type": "code",
   "execution_count": 9,
   "id": "d04c04ce",
   "metadata": {},
   "outputs": [
    {
     "data": {
      "text/plain": [
       "[<matplotlib.lines.Line2D at 0x1e738bf34d0>]"
      ]
     },
     "execution_count": 9,
     "metadata": {},
     "output_type": "execute_result"
    },
    {
     "data": {
      "image/png": "[encoded data removed]",
      "text/plain": [
       "<Figure size 640x480 with 1 Axes>"
      ]
     },
     "metadata": {},
     "output_type": "display_data"
    }
   ],
   "source": [
    "plt.xlabel('alan', color = \"red\")\n",
    "plt.ylabel('fiyat', color = \"red\")\n",
    "plt.title(\"Linear Regression\", color = \"red\")\n",
    "plt.scatter( df.alan , df.fiyat , color = \"red\" , marker = \"+\")\n",
    "plt.plot(df.alan , reg.predict(df[['alan']]) , color = \"blue\")"
   ]
  },
  {
   "cell_type": "code",
   "execution_count": null,
   "id": "7e0c47fd",
   "metadata": {},
   "outputs": [],
   "source": []
  }
 ],
 "metadata": {
  "kernelspec": {
   "display_name": "Python 3 (ipykernel)",
   "language": "python",
   "name": "python3"
  },
  "language_info": {
   "codemirror_mode": {
    "name": "ipython",
    "version": 3
   },
   "file_extension": ".py",
   "mimetype": "text/x-python",
   "name": "python",
   "nbconvert_exporter": "python",
   "pygments_lexer": "ipython3",
   "version": "3.11.4"
  }
 },
 "nbformat": 4,
 "nbformat_minor": 5
}
